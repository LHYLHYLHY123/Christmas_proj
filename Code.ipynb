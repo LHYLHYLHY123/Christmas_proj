{
 "cells": [
  {
   "cell_type": "raw",
   "metadata": {},
   "source": [
    "To begin with, import the packages first."
   ]
  },
  {
   "cell_type": "code",
   "execution_count": 330,
   "metadata": {},
   "outputs": [],
   "source": [
    "import numpy as np\n",
    "import scipy as sc\n",
    "import pandas as pd\n",
    "import sklearn as sk\n",
    "import matplotlib.pyplot as plt\n",
    "from sklearn import linear_model\n",
    "import warnings\n",
    "import statsmodels.formula.api as smf\n",
    "import pylab\n",
    "import statsmodels.api as sm\n",
    "\n",
    "warnings.filterwarnings('ignore')"
   ]
  },
  {
   "cell_type": "markdown",
   "metadata": {},
   "source": [
    "## 1-Import and clean the dataset"
   ]
  },
  {
   "cell_type": "markdown",
   "metadata": {},
   "source": [
    "### Import the dataset"
   ]
  },
  {
   "cell_type": "code",
   "execution_count": 331,
   "metadata": {
    "scrolled": true
   },
   "outputs": [],
   "source": [
    "## Notice the root we have set; be sure to change to make the python work.\n",
    "Stock=pd.read_csv('/Users/lihuayu/Documents/UMich-New Start/Extra Help/Christ/Christmas_proj/data2.csv')"
   ]
  },
  {
   "cell_type": "markdown",
   "metadata": {},
   "source": [
    "### Separate the dataset into several pieces"
   ]
  },
  {
   "cell_type": "code",
   "execution_count": 332,
   "metadata": {},
   "outputs": [],
   "source": [
    "StockA=Stock[Stock['symbol']=='STOCKA']\n",
    "StockB=Stock[Stock['symbol']=='STOCKB']"
   ]
  },
  {
   "cell_type": "code",
   "execution_count": 333,
   "metadata": {},
   "outputs": [],
   "source": [
    "## Note that the length of Stock_A dataset is 224802, and for Stock_B, that is 225632\n",
    "Stock_A=StockA[StockA['bid']!=0]\n",
    "Stock_B=StockB[StockB['bid']!=0]\n",
    "trade_A=StockA[StockA['bid']==0]\n",
    "trade_B=StockB[StockB['bid']==0]\n",
    "#plt.plot((Stock_A['time']-min(Stock_A['time']))[0:100000],Stock_A['ask'][0:100000],'r--')"
   ]
  },
  {
   "cell_type": "markdown",
   "metadata": {},
   "source": [
    "Here we will consider regression model to predict the stock price. Because the price may relate to  previous record, so here we will paste the former three records into the dataset."
   ]
  },
  {
   "cell_type": "code",
   "execution_count": 334,
   "metadata": {
    "scrolled": true
   },
   "outputs": [],
   "source": [
    "### To begin with, we delete the duplicate records to compress the data\n",
    "ST_A=Stock_A.drop_duplicates(['bid','bidsz','ask','asksz'],'first',inplace=False)\n",
    "ST_A=ST_A[['time','bid','bidsz','ask','asksz']]\n",
    "ST_A=ST_A.reset_index(drop=True)\n",
    "\n",
    "ST_B=Stock_B.drop_duplicates(['bid','bidsz','ask','asksz'],'first',inplace=False)\n",
    "ST_B=ST_B[['time','bid','bidsz','ask','asksz']]\n",
    "ST_B=ST_B.reset_index(drop=True)"
   ]
  },
  {
   "cell_type": "code",
   "execution_count": 335,
   "metadata": {
    "scrolled": true
   },
   "outputs": [],
   "source": [
    "#### For ST_A, here we put the stock data and the three previous records\n",
    "#### into one line; if the record does not exist, using the initial data to replace.\n",
    "paste_A1=ST_A[0:-1][['bid','bidsz','ask','asksz']]\n",
    "paste_A2=ST_A[0:-2][['bid','bidsz','ask','asksz']]\n",
    "paste_A3=ST_A[0:-3][['bid','bidsz','ask','asksz']]\n",
    "\n",
    "paste_A1.columns=['bid1','bidsz1','ask1','asksz1']\n",
    "paste_A2.columns=['bid2','bidsz2','ask2','asksz2']\n",
    "paste_A3.columns=['bid3','bidsz3','ask3','asksz3']\n",
    "\n",
    "paste_A1.reset_index(drop=True)\n",
    "paste_A2.reset_index(drop=True)\n",
    "paste_A3.reset_index(drop=True)\n",
    "\n",
    "T01=paste_A1[0:1]\n",
    "A1=T01.append(paste_A1,ignore_index=True)\n",
    "\n",
    "T02=paste_A2[0:1]\n",
    "A2=T02.append(T02,ignore_index=True)\n",
    "A2=A2.append(paste_A2,ignore_index=True)\n",
    "\n",
    "T03=paste_A3[0:1]\n",
    "A3=T03.append(T03,ignore_index=True)\n",
    "A3=A3.append(T03,ignore_index=True)\n",
    "A3=A3.append(paste_A3,ignore_index=True)\n",
    "\n",
    "Fin_A=pd.concat([ST_A,A1,A2,A3],axis=1)\n",
    "\n",
    "## Here we set the unit of time as seconds, and use the initial \n",
    "## condition as the time standard, set this standard time as 0.\n",
    "Fin_A['time']=(Fin_A['time']-min(Fin_A['time']))/pow(10,6)"
   ]
  },
  {
   "cell_type": "code",
   "execution_count": 336,
   "metadata": {},
   "outputs": [],
   "source": [
    "#### For ST_B, here we put the stock data and the three previous records\n",
    "#### into one line; if the record does not exist, using the initial data to replace.\n",
    "paste_B1=ST_B[0:-1][['bid','bidsz','ask','asksz']]\n",
    "paste_B2=ST_B[0:-2][['bid','bidsz','ask','asksz']]\n",
    "paste_B3=ST_B[0:-3][['bid','bidsz','ask','asksz']]\n",
    "\n",
    "paste_B1.columns=['bid1','bidsz1','ask1','asksz1']\n",
    "paste_B2.columns=['bid2','bidsz2','ask2','asksz2']\n",
    "paste_B3.columns=['bid3','bidsz3','ask3','asksz3']\n",
    "\n",
    "paste_B1.reset_index(drop=True)\n",
    "paste_B2.reset_index(drop=True)\n",
    "paste_B3.reset_index(drop=True)\n",
    "\n",
    "T01=paste_B1[0:1]\n",
    "B1=T01.append(paste_B1,ignore_index=True)\n",
    "\n",
    "T02=paste_B2[0:1]\n",
    "B2=T02.append(T02,ignore_index=True)\n",
    "B2=B2.append(paste_B2,ignore_index=True)\n",
    "\n",
    "T03=paste_B3[0:1]\n",
    "B3=T03.append(T03,ignore_index=True)\n",
    "B3=B3.append(T03,ignore_index=True)\n",
    "B3=B3.append(paste_B3,ignore_index=True)\n",
    "\n",
    "Fin_B=pd.concat([ST_B,B1,B2,B3],axis=1)\n",
    "\n",
    "## Here we set the unit of time as seconds, and use the initial \n",
    "## condition as the time standard, set this standard time as 0.\n",
    "Fin_B['time']=(Fin_B['time']-min(Fin_B['time']))/pow(10,6)"
   ]
  },
  {
   "cell_type": "code",
   "execution_count": 337,
   "metadata": {},
   "outputs": [],
   "source": [
    "#### Here we separate the dataset into training and testing datasets \n",
    "#### (in the proportion 9:1). Besides, we produce some datasets with\n",
    "#### parameters '.sz' replaced by the log values. \n",
    "train_A=Fin_A[0:int(0.9*len(Fin_A))]\n",
    "test_A=Fin_A[int(0.9*len(Fin_A)):len(Fin_A)]\n",
    "train_B=Fin_B[0:int(0.9*len(Fin_B))]\n",
    "test_B=Fin_B[int(0.9*len(Fin_B)):len(Fin_B)]\n",
    "\n",
    "l_trainA=Fin_A[0:int(0.9*len(Fin_A))]\n",
    "l_trainA['bidsz']=np.log(l_trainA['bidsz'])\n",
    "l_trainA['asksz']=np.log(l_trainA['asksz'])\n",
    "l_trainB=Fin_B[0:int(0.9*len(Fin_B))]\n",
    "l_trainB['bidsz']=np.log(l_trainB['bidsz'])\n",
    "l_trainB['asksz']=np.log(l_trainB['asksz'])\n",
    "\n",
    "l_testA=Fin_A[int(0.9*len(Fin_A)):len(Fin_A)]\n",
    "l_testA['bidsz']=np.log(l_testA['bidsz'])\n",
    "l_testA['asksz']=np.log(l_testA['asksz'])\n",
    "l_testB=Fin_B[int(0.9*len(Fin_B)):len(Fin_B)]\n",
    "l_testB['bidsz']=np.log(l_testB['bidsz'])\n",
    "l_testB['asksz']=np.log(l_testB['asksz'])"
   ]
  },
  {
   "cell_type": "markdown",
   "metadata": {},
   "source": [
    "## 2-Model Constructions"
   ]
  },
  {
   "cell_type": "markdown",
   "metadata": {},
   "source": [
    "### Part 1: Prediction of the stock price when disregarding the time of change"
   ]
  },
  {
   "cell_type": "markdown",
   "metadata": {},
   "source": [
    "Note that the target of the models are prediction, so here we will only fit upon the training dataset; and then we will use the methods upon the testing dataset. Here we will use MSE as our comparison criterion. "
   ]
  },
  {
   "cell_type": "markdown",
   "metadata": {},
   "source": [
    "#### Model 1: Linear Regression using OLS"
   ]
  },
  {
   "cell_type": "code",
   "execution_count": 338,
   "metadata": {},
   "outputs": [
    {
     "data": {
      "text/plain": [
       "LinearRegression(copy_X=True, fit_intercept=True, n_jobs=None, normalize=False)"
      ]
     },
     "execution_count": 338,
     "metadata": {},
     "output_type": "execute_result"
    }
   ],
   "source": [
    "y_A_bid=train_A['bid']\n",
    "y_A_ask=train_A['ask']\n",
    "x_A=train_A[['time','bid1','bidsz1','ask1','asksz1',\n",
    "                    'bid2','bidsz2','ask2','asksz2',\n",
    "                    'bid3','bidsz3','ask3','asksz3']]\n",
    "\n",
    "ols_A_bid=linear_model.LinearRegression()\n",
    "ols_A_ask=linear_model.LinearRegression()\n",
    "ols_A_bid.fit(x_A,y_A_bid)\n",
    "ols_A_ask.fit(x_A,y_A_ask)\n",
    "\n",
    "y_B_bid=train_B['bid']\n",
    "y_B_ask=train_B['ask']\n",
    "x_B=train_B[['time','bid1','bidsz1','ask1','asksz1',\n",
    "                    'bid2','bidsz2','ask2','asksz2',\n",
    "                    'bid3','bidsz3','ask3','asksz3']]\n",
    "\n",
    "ols_B_bid=linear_model.LinearRegression()\n",
    "ols_B_ask=linear_model.LinearRegression()\n",
    "ols_B_bid.fit(x_B,y_B_bid)\n",
    "ols_B_ask.fit(x_B,y_B_ask)\n",
    "## Here we only produce the models, and for the validation, this will be done later."
   ]
  },
  {
   "cell_type": "markdown",
   "metadata": {},
   "source": [
    "#### Model 2: Stepwise selection upon OLS method"
   ]
  },
  {
   "cell_type": "markdown",
   "metadata": {},
   "source": [
    "Here we will only use the Backward Selection to select the predictors. The following code is from the github link https://github.com/talhahascelik/python_stepwiseSelection/blob/master/stepwiseSelection.py, which is used for stepwise selection."
   ]
  },
  {
   "cell_type": "code",
   "execution_count": 339,
   "metadata": {},
   "outputs": [],
   "source": [
    "#Copyright 2019 Sinan Talha Hascelik\n",
    "#\n",
    "#Licensed under the Apache License, Version 2.0 (the \"License\");\n",
    "#you may not use this file except in compliance with the License.\n",
    "#You may obtain a copy of the License at\n",
    "#\n",
    "#    http://www.apache.org/licenses/LICENSE-2.0\n",
    "#\n",
    "#Unless required by applicable law or agreed to in writing, software\n",
    "#distributed under the License is distributed on an \"AS IS\" BASIS,\n",
    "#WITHOUT WARRANTIES OR CONDITIONS OF ANY KIND, either express or implied.\n",
    "#See the License for the specific language governing permissions and\n",
    "#limitations under the License.\n",
    "\n",
    "\n",
    "def forwardSelection(X, y, model_type =\"linear\",elimination_criteria = \"aic\", varchar_process = \"dummy_dropfirst\", sl=0.05):\n",
    "    \"\"\"\n",
    "    Forward Selection is a function, based on regression models, that returns significant features and selection iterations.\\n\n",
    "    Required Libraries: pandas, numpy, statmodels\n",
    "    \n",
    "    Parameters\n",
    "    ----------\n",
    "    X : Independent variables (Pandas Dataframe)\\n\n",
    "    y : Dependent variable (Pandas Series, Pandas Dataframe)\\n\n",
    "    model_type : 'linear' or 'logistic'\\n\n",
    "    elimination_criteria : 'aic', 'bic', 'r2', 'adjr2' or None\\n\n",
    "        'aic' refers Akaike information criterion\\n\n",
    "        'bic' refers Bayesian information criterion\\n\n",
    "        'r2' refers R-squared (Only works on linear model type)\\n\n",
    "        'r2' refers Adjusted R-squared (Only works on linear model type)\\n\n",
    "    varchar_process : 'drop', 'dummy' or 'dummy_dropfirst'\\n\n",
    "        'drop' drops varchar features\\n\n",
    "        'dummy' creates dummies for all levels of all varchars\\n\n",
    "        'dummy_dropfirst' creates dummies for all levels of all varchars, and drops first levels\\n\n",
    "    sl : Significance Level (default: 0.05)\\n\n",
    "    \n",
    "    Returns\n",
    "    -------\n",
    "    columns(list), iteration_logs(str)\\n\\n\n",
    "    Not Returns a Model\n",
    "    \n",
    "    Tested On\n",
    "    ---------\n",
    "    Python v3.6.7, Pandas v0.23.4, Numpy v1.15.04, StatModels v0.9.0\n",
    "    \n",
    "    See Also\n",
    "    --------\n",
    "    https://en.wikipedia.org/wiki/Stepwise_regression\n",
    "    \"\"\"\n",
    "    X = __varcharProcessing__(X,varchar_process = varchar_process)\n",
    "    return __forwardSelectionRaw__(X, y, model_type = model_type,elimination_criteria = elimination_criteria , sl=sl)\n",
    "    \n",
    "def backwardSelection(X, y, model_type =\"linear\",elimination_criteria = \"aic\", varchar_process = \"dummy_dropfirst\", sl=0.05):\n",
    "    \"\"\"\n",
    "    Backward Selection is a function, based on regression models, that returns significant features and selection iterations.\\n\n",
    "    Required Libraries: pandas, numpy, statmodels\n",
    "    \n",
    "    Parameters\n",
    "    ----------\n",
    "    X : Independent variables (Pandas Dataframe)\\n\n",
    "    y : Dependent variable (Pandas Series, Pandas Dataframe)\\n\n",
    "    model_type : 'linear' or 'logistic'\\n\n",
    "    elimination_criteria : 'aic', 'bic', 'r2', 'adjr2' or None\\n\n",
    "        'aic' refers Akaike information criterion\\n\n",
    "        'bic' refers Bayesian information criterion\\n\n",
    "        'r2' refers R-squared (Only works on linear model type)\\n\n",
    "        'r2' refers Adjusted R-squared (Only works on linear model type)\\n\n",
    "    varchar_process : 'drop', 'dummy' or 'dummy_dropfirst'\\n\n",
    "        'drop' drops varchar features\\n\n",
    "        'dummy' creates dummies for all levels of all varchars\\n\n",
    "        'dummy_dropfirst' creates dummies for all levels of all varchars, and drops first levels\\n\n",
    "    sl : Significance Level (default: 0.05)\\n\n",
    "    \n",
    "    Returns\n",
    "    -------\n",
    "    columns(list), iteration_logs(str)\\n\\n\n",
    "    Not Returns a Model\n",
    "    \n",
    "    Tested On\n",
    "    ---------\n",
    "    Python v3.6.7, Pandas v0.23.4, Numpy v1.15.04, StatModels v0.9.0\n",
    "    \n",
    "    See Also\n",
    "    --------\n",
    "    https://en.wikipedia.org/wiki/Stepwise_regression    \n",
    "    \"\"\"\n",
    "    X = __varcharProcessing__(X,varchar_process = varchar_process)\n",
    "    return __backwardSelectionRaw__(X, y, model_type = model_type,elimination_criteria = elimination_criteria , sl=sl)\n",
    "\n",
    "def __varcharProcessing__(X, varchar_process = \"dummy_dropfirst\"):\n",
    "    \n",
    "    dtypes = X.dtypes\n",
    "    if varchar_process == \"drop\":   \n",
    "        X = X.drop(columns = dtypes[dtypes == np.object].index.tolist())\n",
    "        print(\"Character Variables (Dropped):\", dtypes[dtypes == np.object].index.tolist())\n",
    "    elif varchar_process == \"dummy\":\n",
    "        X = pd.get_dummies(X,drop_first=False)\n",
    "        print(\"Character Variables (Dummies Generated):\", dtypes[dtypes == np.object].index.tolist())\n",
    "    elif varchar_process == \"dummy_dropfirst\":\n",
    "        X = pd.get_dummies(X,drop_first=True)\n",
    "        print(\"Character Variables (Dummies Generated, First Dummies Dropped):\", dtypes[dtypes == np.object].index.tolist())\n",
    "    else: \n",
    "        X = pd.get_dummies(X,drop_first=True)\n",
    "        print(\"Character Variables (Dummies Generated, First Dummies Dropped):\", dtypes[dtypes == np.object].index.tolist())\n",
    "    \n",
    "    X[\"intercept\"] = 1\n",
    "    cols = X.columns.tolist()\n",
    "    cols = cols[-1:] + cols[:-1]\n",
    "    X = X[cols]\n",
    "    \n",
    "    return X\n",
    "\n",
    "def __forwardSelectionRaw__(X, y, model_type =\"linear\",elimination_criteria = \"aic\", sl=0.05):\n",
    "\n",
    "    iterations_log = \"\"\n",
    "    cols = X.columns.tolist()\n",
    "    \n",
    "    def regressor(y,X, model_type=model_type):\n",
    "        if model_type == \"linear\":\n",
    "            regressor = sm.OLS(y, X).fit()\n",
    "        elif model_type == \"logistic\":\n",
    "            regressor = sm.Logit(y, X).fit()\n",
    "        else:\n",
    "            print(\"\\nWrong Model Type : \"+ model_type +\"\\nLinear model type is seleted.\")\n",
    "            model_type = \"linear\"\n",
    "            regressor = sm.OLS(y, X).fit()\n",
    "        return regressor\n",
    "    \n",
    "    selected_cols = [\"intercept\"]\n",
    "    other_cols = cols.copy()\n",
    "    other_cols.remove(\"intercept\")\n",
    "    \n",
    "    model = regressor(y, X[selected_cols])\n",
    "    \n",
    "    if elimination_criteria == \"aic\":\n",
    "        criteria = model.aic\n",
    "    elif elimination_criteria == \"bic\":\n",
    "        criteria = model.bic\n",
    "    elif elimination_criteria == \"r2\" and model_type ==\"linear\":\n",
    "        criteria = model.rsquared\n",
    "    elif elimination_criteria == \"adjr2\" and model_type ==\"linear\":\n",
    "        criteria = model.rsquared_adj\n",
    "    \n",
    "    \n",
    "    for i in range(X.shape[1]):\n",
    "        pvals = pd.DataFrame(columns = [\"Cols\",\"Pval\"])\n",
    "        for j in other_cols:\n",
    "            model = regressor(y, X[selected_cols+[j]])\n",
    "            pvals = pvals.append(pd.DataFrame([[j, model.pvalues[j]]],columns = [\"Cols\",\"Pval\"]),ignore_index=True)\n",
    "        pvals = pvals.sort_values(by = [\"Pval\"]).reset_index(drop=True)\n",
    "        pvals = pvals[pvals.Pval<=sl]\n",
    "        if pvals.shape[0] > 0:\n",
    "            \n",
    "            model = regressor(y, X[selected_cols+[pvals[\"Cols\"][0]]])\n",
    "            iterations_log += str(\"\\nEntered : \"+pvals[\"Cols\"][0] + \"\\n\")    \n",
    "            iterations_log += \"\\n\\n\"+str(model.summary())+\"\\nAIC: \"+ str(model.aic) + \"\\nBIC: \"+ str(model.bic)+\"\\n\\n\"\n",
    "                    \n",
    "        \n",
    "            if  elimination_criteria == \"aic\":\n",
    "                new_criteria = model.aic\n",
    "                if new_criteria < criteria:\n",
    "                    print(\"Entered :\", pvals[\"Cols\"][0], \"\\tAIC :\", model.aic)\n",
    "                    selected_cols.append(pvals[\"Cols\"][0])\n",
    "                    other_cols.remove(pvals[\"Cols\"][0])\n",
    "                    criteria = new_criteria\n",
    "                else:\n",
    "                    print(\"break : Criteria\")\n",
    "                    break\n",
    "            elif  elimination_criteria == \"bic\":\n",
    "                new_criteria = model.bic\n",
    "                if new_criteria < criteria:\n",
    "                    print(\"Entered :\", pvals[\"Cols\"][0], \"\\tBIC :\", model.bic)\n",
    "                    selected_cols.append(pvals[\"Cols\"][0])\n",
    "                    other_cols.remove(pvals[\"Cols\"][0])\n",
    "                    criteria = new_criteria\n",
    "                else:\n",
    "                    print(\"break : Criteria\")\n",
    "                    break        \n",
    "            elif  elimination_criteria == \"r2\" and model_type ==\"linear\":\n",
    "                new_criteria = model.rsquared\n",
    "                if new_criteria > criteria:\n",
    "                    print(\"Entered :\", pvals[\"Cols\"][0], \"\\tR2 :\", model.rsquared)\n",
    "                    selected_cols.append(pvals[\"Cols\"][0])\n",
    "                    other_cols.remove(pvals[\"Cols\"][0])\n",
    "                    criteria = new_criteria\n",
    "                else:\n",
    "                    print(\"break : Criteria\")\n",
    "                    break           \n",
    "            elif  elimination_criteria == \"adjr2\" and model_type ==\"linear\":\n",
    "                new_criteria = model.rsquared_adj\n",
    "                if new_criteria > criteria:\n",
    "                    print(\"Entered :\", pvals[\"Cols\"][0], \"\\tAdjR2 :\", model.rsquared_adj)\n",
    "                    selected_cols.append(pvals[\"Cols\"][0])\n",
    "                    other_cols.remove(pvals[\"Cols\"][0])\n",
    "                    criteria = new_criteria\n",
    "                else:\n",
    "                    print(\"Break : Criteria\")\n",
    "                    break\n",
    "            else:\n",
    "                print(\"Entered :\", pvals[\"Cols\"][0])\n",
    "                selected_cols.append(pvals[\"Cols\"][0])\n",
    "                other_cols.remove(pvals[\"Cols\"][0])            \n",
    "                \n",
    "        else:\n",
    "            print(\"Break : Significance Level\")\n",
    "            break\n",
    "        \n",
    "    model = regressor(y, X[selected_cols])\n",
    "    if elimination_criteria == \"aic\":\n",
    "        criteria = model.aic\n",
    "    elif elimination_criteria == \"bic\":\n",
    "        criteria = model.bic\n",
    "    elif elimination_criteria == \"r2\" and model_type ==\"linear\":\n",
    "        criteria = model.rsquared\n",
    "    elif elimination_criteria == \"adjr2\" and model_type ==\"linear\":\n",
    "        criteria = model.rsquared_adj\n",
    "    \n",
    "    print(model.summary())\n",
    "    print(\"AIC: \"+str(model.aic))\n",
    "    print(\"BIC: \"+str(model.bic))\n",
    "    print(\"Final Variables:\", selected_cols)\n",
    "\n",
    "    return selected_cols, iterations_log\n",
    "\n",
    "def __backwardSelectionRaw__(X, y, model_type =\"linear\",elimination_criteria = \"aic\", sl=0.05):\n",
    "    \n",
    "    iterations_log = \"\"\n",
    "    last_eleminated = \"\"    \n",
    "    cols = X.columns.tolist()\n",
    "\n",
    "    def regressor(y,X, model_type=model_type):\n",
    "        if model_type ==\"linear\":\n",
    "            regressor = sm.OLS(y, X).fit()\n",
    "        elif model_type == \"logistic\":\n",
    "            regressor = sm.Logit(y, X).fit()\n",
    "        else:\n",
    "            print(\"\\nWrong Model Type : \"+ model_type +\"\\nLinear model type is seleted.\")\n",
    "            model_type = \"linear\"\n",
    "            regressor = sm.OLS(y, X).fit()\n",
    "        return regressor\n",
    "    for i in range(X.shape[1]):\n",
    "        if i != 0 :          \n",
    "            if elimination_criteria == \"aic\":\n",
    "                criteria = model.aic\n",
    "                new_model = regressor(y,X)\n",
    "                new_criteria = new_model.aic\n",
    "                if criteria < new_criteria:\n",
    "                    print(\"Regained : \", last_eleminated)\n",
    "                    iterations_log += \"\\n\"+str(new_model.summary())+\"\\nAIC: \"+ str(new_model.aic) + \"\\nBIC: \"+ str(new_model.bic)+\"\\n\"\n",
    "                    iterations_log += str(\"\\n\\nRegained : \"+last_eleminated + \"\\n\\n\")\n",
    "                    break  \n",
    "            elif elimination_criteria == \"bic\":\n",
    "                criteria = model.bic\n",
    "                new_model = regressor(y,X)\n",
    "                new_criteria = new_model.bic\n",
    "                if criteria < new_criteria:\n",
    "                    print(\"Regained : \", last_eleminated)\n",
    "                    iterations_log += \"\\n\"+str(new_model.summary())+\"\\nAIC: \"+ str(new_model.aic) + \"\\nBIC: \"+ str(new_model.bic)+\"\\n\"\n",
    "                    iterations_log += str(\"\\n\\nRegained : \"+last_eleminated + \"\\n\\n\")\n",
    "                    break  \n",
    "            elif elimination_criteria == \"adjr2\" and model_type ==\"linear\":\n",
    "                criteria = model.rsquared_adj\n",
    "                new_model = regressor(y,X)\n",
    "                new_criteria = new_model.rsquared_adj\n",
    "                if criteria > new_criteria:\n",
    "                    print(\"Regained : \", last_eleminated)\n",
    "                    iterations_log += \"\\n\"+str(new_model.summary())+\"\\nAIC: \"+ str(new_model.aic) + \"\\nBIC: \"+ str(new_model.bic)+\"\\n\"\n",
    "                    iterations_log += str(\"\\n\\nRegained : \"+last_eleminated + \"\\n\\n\")\n",
    "                    break  \n",
    "            elif elimination_criteria == \"r2\" and model_type ==\"linear\":\n",
    "                criteria = model.rsquared\n",
    "                new_model = regressor(y,X)\n",
    "                new_criteria = new_model.rsquared\n",
    "                if criteria > new_criteria:\n",
    "                    print(\"Regained : \", last_eleminated)\n",
    "                    iterations_log += \"\\n\"+str(new_model.summary())+\"\\nAIC: \"+ str(new_model.aic) + \"\\nBIC: \"+ str(new_model.bic)+\"\\n\"\n",
    "                    iterations_log += str(\"\\n\\nRegained : \"+last_eleminated + \"\\n\\n\")\n",
    "                    break   \n",
    "            else: \n",
    "                new_model = regressor(y,X)\n",
    "            model = new_model\n",
    "            iterations_log += \"\\n\"+str(model.summary())+\"\\nAIC: \"+ str(model.aic) + \"\\nBIC: \"+ str(model.bic)+\"\\n\"\n",
    "        else:\n",
    "            model = regressor(y,X)\n",
    "            iterations_log += \"\\n\"+str(model.summary())+\"\\nAIC: \"+ str(model.aic) + \"\\nBIC: \"+ str(model.bic)+\"\\n\"\n",
    "        maxPval = max(model.pvalues)\n",
    "        cols = X.columns.tolist()\n",
    "        if maxPval > sl:\n",
    "            for j in cols:\n",
    "                if (model.pvalues[j] == maxPval):\n",
    "                    print(\"Eliminated :\" ,j)\n",
    "                    iterations_log += str(\"\\n\\nEliminated : \"+j+ \"\\n\\n\")\n",
    "                    \n",
    "                    del X[j]\n",
    "                    last_eleminated = j\n",
    "        else:\n",
    "            break\n",
    "    print(str(model.summary())+\"\\nAIC: \"+ str(model.aic) + \"\\nBIC: \"+ str(model.bic))\n",
    "    print(\"Final Variables:\", cols)\n",
    "    iterations_log += \"\\n\"+str(model.summary())+\"\\nAIC: \"+ str(model.aic) + \"\\nBIC: \"+ str(model.bic)+\"\\n\"\n",
    "    return cols, iterations_log"
   ]
  },
  {
   "cell_type": "markdown",
   "metadata": {},
   "source": [
    "Using the function, we fit the models using backward selection; after selected, we then fit the new models using the selected variables"
   ]
  },
  {
   "cell_type": "code",
   "execution_count": 340,
   "metadata": {},
   "outputs": [
    {
     "name": "stdout",
     "output_type": "stream",
     "text": [
      "Character Variables (Dummies Generated, First Dummies Dropped): []\n",
      "Eliminated : asksz3\n",
      "Eliminated : bidsz2\n",
      "Eliminated : bidsz1\n",
      "Eliminated : asksz2\n",
      "Regained :  asksz2\n",
      "                            OLS Regression Results                            \n",
      "==============================================================================\n",
      "Dep. Variable:                    bid   R-squared:                       0.992\n",
      "Model:                            OLS   Adj. R-squared:                  0.992\n",
      "Method:                 Least Squares   F-statistic:                 7.420e+05\n",
      "Date:                Thu, 26 Dec 2019   Prob (F-statistic):               0.00\n",
      "Time:                        08:04:36   Log-Likelihood:                -51044.\n",
      "No. Observations:               58339   AIC:                         1.021e+05\n",
      "Df Residuals:                   58328   BIC:                         1.022e+05\n",
      "Df Model:                          10                                         \n",
      "Covariance Type:            nonrobust                                         \n",
      "==============================================================================\n",
      "                 coef    std err          t      P>|t|      [0.025      0.975]\n",
      "------------------------------------------------------------------------------\n",
      "intercept     26.4197      2.074     12.739      0.000      22.355      30.484\n",
      "time        5.387e-06   5.07e-07     10.623      0.000    4.39e-06    6.38e-06\n",
      "bid1           0.9205      0.004    222.928      0.000       0.912       0.929\n",
      "ask1           0.0424      0.009      4.944      0.000       0.026       0.059\n",
      "asksz1        -0.0005      0.000     -1.551      0.121      -0.001       0.000\n",
      "bid2           0.0085      0.006      1.500      0.134      -0.003       0.020\n",
      "ask2          -0.0243      0.012     -2.038      0.042      -0.048      -0.001\n",
      "asksz2         0.0005      0.000      1.438      0.151      -0.000       0.001\n",
      "bid3           0.0061      0.004      1.501      0.133      -0.002       0.014\n",
      "bidsz3         0.0007      0.000      6.521      0.000       0.000       0.001\n",
      "ask3           0.0403      0.008      4.937      0.000       0.024       0.056\n",
      "==============================================================================\n",
      "Omnibus:                   265488.292   Durbin-Watson:                   2.005\n",
      "Prob(Omnibus):                  0.000   Jarque-Bera (JB):    2623969435714.172\n",
      "Skew:                         155.770   Prob(JB):                         0.00\n",
      "Kurtosis:                   32856.829   Cond. No.                     1.25e+07\n",
      "==============================================================================\n",
      "\n",
      "Warnings:\n",
      "[1] Standard Errors assume that the covariance matrix of the errors is correctly specified.\n",
      "[2] The condition number is large, 1.25e+07. This might indicate that there are\n",
      "strong multicollinearity or other numerical problems.\n",
      "AIC: 102109.21251600457\n",
      "BIC: 102207.92680313071\n",
      "Final Variables: ['intercept', 'time', 'bid1', 'ask1', 'asksz1', 'bid2', 'ask2', 'asksz2', 'bid3', 'bidsz3', 'ask3']\n"
     ]
    }
   ],
   "source": [
    "backwardSelection(x_A,y_A_bid,model_type='linear',elimination_criteria='aic');"
   ]
  },
  {
   "cell_type": "code",
   "execution_count": 341,
   "metadata": {},
   "outputs": [
    {
     "data": {
      "text/plain": [
       "LinearRegression(copy_X=True, fit_intercept=True, n_jobs=None, normalize=False)"
      ]
     },
     "execution_count": 341,
     "metadata": {},
     "output_type": "execute_result"
    }
   ],
   "source": [
    "## For each responsors, after calculated using backward selection, \n",
    "## using the selected predictors to construct the new regression models.\n",
    "ss_A_bid=linear_model.LinearRegression()\n",
    "ss_A_bid.fit(x_A[['time','bid1',\n",
    "         'bidsz1','ask1','asksz1','bid2',\n",
    "         'bidsz2','ask2','bid3','asksz3']].astype(float),y_A_bid.astype(float))"
   ]
  },
  {
   "cell_type": "code",
   "execution_count": 342,
   "metadata": {},
   "outputs": [
    {
     "name": "stdout",
     "output_type": "stream",
     "text": [
      "Character Variables (Dummies Generated, First Dummies Dropped): []\n",
      "Eliminated : bidsz3\n",
      "Eliminated : asksz2\n",
      "Eliminated : ask3\n",
      "                            OLS Regression Results                            \n",
      "==============================================================================\n",
      "Dep. Variable:                    ask   R-squared:                       0.998\n",
      "Model:                            OLS   Adj. R-squared:                  0.998\n",
      "Method:                 Least Squares   F-statistic:                 2.862e+06\n",
      "Date:                Thu, 26 Dec 2019   Prob (F-statistic):               0.00\n",
      "Time:                        08:04:38   Log-Likelihood:                -10578.\n",
      "No. Observations:               58339   AIC:                         2.118e+04\n",
      "Df Residuals:                   58328   BIC:                         2.128e+04\n",
      "Df Model:                          10                                         \n",
      "Covariance Type:            nonrobust                                         \n",
      "==============================================================================\n",
      "                 coef    std err          t      P>|t|      [0.025      0.975]\n",
      "------------------------------------------------------------------------------\n",
      "intercept      4.0671      1.036      3.925      0.000       2.036       6.098\n",
      "time        1.196e-06   2.54e-07      4.709      0.000    6.98e-07    1.69e-06\n",
      "bid1          -0.0649      0.002    -31.179      0.000      -0.069      -0.061\n",
      "bidsz1        -0.0008      0.000     -4.466      0.000      -0.001      -0.000\n",
      "ask1           1.0040      0.004    238.828      0.000       0.996       1.012\n",
      "asksz1        -0.0009      0.000     -8.010      0.000      -0.001      -0.001\n",
      "bid2           0.0679      0.003     23.924      0.000       0.062       0.073\n",
      "bidsz2         0.0008      0.000      4.269      0.000       0.000       0.001\n",
      "ask2          -0.0126      0.004     -3.006      0.003      -0.021      -0.004\n",
      "bid3           0.0045      0.002      2.250      0.024       0.001       0.008\n",
      "asksz3         0.0004      0.000      3.045      0.002       0.000       0.001\n",
      "==============================================================================\n",
      "Omnibus:                   103733.558   Durbin-Watson:                   2.000\n",
      "Prob(Omnibus):                  0.000   Jarque-Bera (JB):      47111399554.381\n",
      "Skew:                         -10.852   Prob(JB):                         0.00\n",
      "Kurtosis:                    4405.343   Cond. No.                     1.20e+07\n",
      "==============================================================================\n",
      "\n",
      "Warnings:\n",
      "[1] Standard Errors assume that the covariance matrix of the errors is correctly specified.\n",
      "[2] The condition number is large, 1.2e+07. This might indicate that there are\n",
      "strong multicollinearity or other numerical problems.\n",
      "AIC: 21178.52312202145\n",
      "BIC: 21277.23740914759\n",
      "Final Variables: ['intercept', 'time', 'bid1', 'bidsz1', 'ask1', 'asksz1', 'bid2', 'bidsz2', 'ask2', 'bid3', 'asksz3']\n"
     ]
    }
   ],
   "source": [
    "backwardSelection(x_A,y_A_ask,model_type='linear',elimination_criteria='aic');"
   ]
  },
  {
   "cell_type": "code",
   "execution_count": 343,
   "metadata": {},
   "outputs": [
    {
     "data": {
      "text/plain": [
       "LinearRegression(copy_X=True, fit_intercept=True, n_jobs=None, normalize=False)"
      ]
     },
     "execution_count": 343,
     "metadata": {},
     "output_type": "execute_result"
    }
   ],
   "source": [
    "ss_A_ask=linear_model.LinearRegression()\n",
    "ss_A_ask.fit(x_A[['time','bid1',\n",
    "         'bidsz1','ask1','asksz1','bid2',\n",
    "         'bidsz2','ask2','bid3','asksz3']].astype(float),y_A_bid.astype(float))"
   ]
  },
  {
   "cell_type": "code",
   "execution_count": 344,
   "metadata": {},
   "outputs": [
    {
     "name": "stdout",
     "output_type": "stream",
     "text": [
      "Character Variables (Dummies Generated, First Dummies Dropped): []\n",
      "Eliminated : asksz1\n",
      "Eliminated : asksz2\n",
      "Eliminated : asksz3\n",
      "Eliminated : ask3\n",
      "Eliminated : bidsz2\n",
      "Regained :  bidsz2\n",
      "                            OLS Regression Results                            \n",
      "==============================================================================\n",
      "Dep. Variable:                    bid   R-squared:                       0.998\n",
      "Model:                            OLS   Adj. R-squared:                  0.998\n",
      "Method:                 Least Squares   F-statistic:                 8.670e+05\n",
      "Date:                Thu, 26 Dec 2019   Prob (F-statistic):               0.00\n",
      "Time:                        08:04:40   Log-Likelihood:                -18450.\n",
      "No. Observations:               18765   AIC:                         3.692e+04\n",
      "Df Residuals:                   18755   BIC:                         3.700e+04\n",
      "Df Model:                           9                                         \n",
      "Covariance Type:            nonrobust                                         \n",
      "==============================================================================\n",
      "                 coef    std err          t      P>|t|      [0.025      0.975]\n",
      "------------------------------------------------------------------------------\n",
      "intercept     21.8674      5.821      3.757      0.000      10.458      33.276\n",
      "time        6.709e-06   1.41e-06      4.747      0.000    3.94e-06    9.48e-06\n",
      "bid1           0.8711      0.008    114.118      0.000       0.856       0.886\n",
      "bidsz1         0.0087      0.002      5.162      0.000       0.005       0.012\n",
      "ask1           0.0884      0.008     10.633      0.000       0.072       0.105\n",
      "bid2           0.0726      0.010      7.172      0.000       0.053       0.092\n",
      "bidsz2         0.0033      0.002      1.532      0.125      -0.001       0.008\n",
      "ask2          -0.0474      0.008     -5.726      0.000      -0.064      -0.031\n",
      "bid3           0.0129      0.007      1.726      0.084      -0.002       0.028\n",
      "bidsz3        -0.0035      0.002     -2.059      0.040      -0.007      -0.000\n",
      "==============================================================================\n",
      "Omnibus:                    47551.820   Durbin-Watson:                   2.002\n",
      "Prob(Omnibus):                  0.000   Jarque-Bera (JB):       3887590964.602\n",
      "Skew:                          27.489   Prob(JB):                         0.00\n",
      "Kurtosis:                    2232.151   Cond. No.                     2.79e+07\n",
      "==============================================================================\n",
      "\n",
      "Warnings:\n",
      "[1] Standard Errors assume that the covariance matrix of the errors is correctly specified.\n",
      "[2] The condition number is large, 2.79e+07. This might indicate that there are\n",
      "strong multicollinearity or other numerical problems.\n",
      "AIC: 36919.37566139572\n",
      "BIC: 36997.77314851141\n",
      "Final Variables: ['intercept', 'time', 'bid1', 'bidsz1', 'ask1', 'bid2', 'bidsz2', 'ask2', 'bid3', 'bidsz3']\n"
     ]
    }
   ],
   "source": [
    "backwardSelection(x_B,y_B_bid,model_type='linear',elimination_criteria='aic');"
   ]
  },
  {
   "cell_type": "code",
   "execution_count": 345,
   "metadata": {},
   "outputs": [
    {
     "data": {
      "text/plain": [
       "LinearRegression(copy_X=True, fit_intercept=True, n_jobs=None, normalize=False)"
      ]
     },
     "execution_count": 345,
     "metadata": {},
     "output_type": "execute_result"
    }
   ],
   "source": [
    "ss_B_bid=linear_model.LinearRegression()\n",
    "ss_B_bid.fit(x_B[['time','bid1',\n",
    "         'bidsz1','ask1','bid2',\n",
    "         'bidsz2','ask2','bid3','asksz3']].astype(float),y_B_bid.astype(float))"
   ]
  },
  {
   "cell_type": "code",
   "execution_count": 346,
   "metadata": {},
   "outputs": [
    {
     "name": "stdout",
     "output_type": "stream",
     "text": [
      "Character Variables (Dummies Generated, First Dummies Dropped): []\n",
      "Eliminated : bid2\n",
      "Eliminated : bidsz1\n",
      "Eliminated : asksz3\n",
      "Regained :  asksz3\n",
      "                            OLS Regression Results                            \n",
      "==============================================================================\n",
      "Dep. Variable:                    ask   R-squared:                       0.998\n",
      "Model:                            OLS   Adj. R-squared:                  0.998\n",
      "Method:                 Least Squares   F-statistic:                 8.597e+05\n",
      "Date:                Thu, 26 Dec 2019   Prob (F-statistic):               0.00\n",
      "Time:                        08:04:41   Log-Likelihood:                -16102.\n",
      "No. Observations:               18765   AIC:                         3.223e+04\n",
      "Df Residuals:                   18753   BIC:                         3.232e+04\n",
      "Df Model:                          11                                         \n",
      "Covariance Type:            nonrobust                                         \n",
      "==============================================================================\n",
      "                 coef    std err          t      P>|t|      [0.025      0.975]\n",
      "------------------------------------------------------------------------------\n",
      "intercept     20.2697      5.277      3.841      0.000       9.926      30.614\n",
      "time        4.942e-06   1.36e-06      3.626      0.000    2.27e-06    7.61e-06\n",
      "bid1           0.0584      0.005     11.675      0.000       0.049       0.068\n",
      "ask1           0.9691      0.008    122.597      0.000       0.954       0.985\n",
      "asksz1        -0.0200      0.002    -12.130      0.000      -0.023      -0.017\n",
      "bidsz2         0.0029      0.001      1.989      0.047    4.22e-05       0.006\n",
      "ask2          -0.0276      0.011     -2.507      0.012      -0.049      -0.006\n",
      "asksz2         0.0072      0.002      3.367      0.001       0.003       0.011\n",
      "bid3          -0.0367      0.005     -7.511      0.000      -0.046      -0.027\n",
      "bidsz3        -0.0031      0.001     -2.136      0.033      -0.006      -0.000\n",
      "ask3           0.0345      0.008      4.391      0.000       0.019       0.050\n",
      "asksz3         0.0026      0.002      1.591      0.112      -0.001       0.006\n",
      "==============================================================================\n",
      "Omnibus:                    29508.657   Durbin-Watson:                   2.005\n",
      "Prob(Omnibus):                  0.000   Jarque-Bera (JB):        277948269.546\n",
      "Skew:                          -9.006   Prob(JB):                         0.00\n",
      "Kurtosis:                     598.957   Cond. No.                     2.87e+07\n",
      "==============================================================================\n",
      "\n",
      "Warnings:\n",
      "[1] Standard Errors assume that the covariance matrix of the errors is correctly specified.\n",
      "[2] The condition number is large, 2.87e+07. This might indicate that there are\n",
      "strong multicollinearity or other numerical problems.\n",
      "AIC: 32228.564212072946\n",
      "BIC: 32322.641196611774\n",
      "Final Variables: ['intercept', 'time', 'bid1', 'ask1', 'asksz1', 'bidsz2', 'ask2', 'asksz2', 'bid3', 'bidsz3', 'ask3', 'asksz3']\n"
     ]
    }
   ],
   "source": [
    "backwardSelection(x_B,y_B_ask,model_type='linear',elimination_criteria='aic');"
   ]
  },
  {
   "cell_type": "code",
   "execution_count": 347,
   "metadata": {},
   "outputs": [
    {
     "data": {
      "text/plain": [
       "LinearRegression(copy_X=True, fit_intercept=True, n_jobs=None, normalize=False)"
      ]
     },
     "execution_count": 347,
     "metadata": {},
     "output_type": "execute_result"
    }
   ],
   "source": [
    "ss_B_ask=linear_model.LinearRegression()\n",
    "ss_B_ask.fit(x_B[['time','bid1',\n",
    "         'ask1','asksz1','bidsz2','ask2','asksz2',\n",
    "         'bid3','bidsz3','ask3','asksz3']].astype(float),y_B_bid.astype(float))"
   ]
  },
  {
   "cell_type": "markdown",
   "metadata": {},
   "source": [
    "#### Model 3: Elastic Net"
   ]
  },
  {
   "cell_type": "code",
   "execution_count": 348,
   "metadata": {},
   "outputs": [],
   "source": [
    "### Here we consider the elastic net model, for the model is for prediction, and \n",
    "### we have to do some model selection.\n",
    "### We directly use the ElasticNet method in sklearn.linear_model\n",
    "Alpha=np.logspace(-5,1,100)\n",
    "elastic_A_bid=linear_model.ElasticNet(l1_ratio=0.7)\n",
    "elastic_A_ask=linear_model.ElasticNet(l1_ratio=0.7)\n",
    "elastic_B_bid=linear_model.ElasticNet(l1_ratio=0.7)\n",
    "elastic_B_ask=linear_model.ElasticNet(l1_ratio=0.7)\n",
    "A_bid_train_errors=list()\n",
    "A_ask_train_errors=list()\n",
    "B_bid_train_errors=list()\n",
    "B_ask_train_errors=list()\n",
    "\n",
    "for alpha in Alpha:\n",
    "    elastic_A_bid.set_params(alpha=alpha)\n",
    "    elastic_A_ask.set_params(alpha=alpha)\n",
    "    elastic_B_bid.set_params(alpha=alpha)\n",
    "    elastic_B_ask.set_params(alpha=alpha)    \n",
    "    \n",
    "    elastic_A_bid.fit(train_A[['time','bid1','bidsz1','ask1','asksz1',\n",
    "                           'bid2','bidsz2','ask2','asksz2',\n",
    "                          'bid3','bidsz3','ask3','asksz3']],train_A['bid'])\n",
    "    elastic_A_ask.fit(train_A[['time','bid1','bidsz1','ask1','asksz1',\n",
    "                           'bid2','bidsz2','ask2','asksz2',\n",
    "                          'bid3','bidsz3','ask3','asksz3']],train_A['ask'])    \n",
    "    elastic_B_bid.fit(train_B[['time','bid1','bidsz1','ask1','asksz1',\n",
    "                           'bid2','bidsz2','ask2','asksz2',\n",
    "                          'bid3','bidsz3','ask3','asksz3']],train_B['bid'])\n",
    "    elastic_B_ask.fit(train_B[['time','bid1','bidsz1','ask1','asksz1',\n",
    "                           'bid2','bidsz2','ask2','asksz2',\n",
    "                          'bid3','bidsz3','ask3','asksz3']],train_B['ask'])        \n",
    " \n",
    "    A_bid_train_errors.append(elastic_A_bid.score(test_A[['time','bid1','bidsz1','ask1','asksz1',\n",
    "                           'bid2','bidsz2','ask2','asksz2',\n",
    "                          'bid3','bidsz3','ask3','asksz3']],test_A['bid']))\n",
    "    A_ask_train_errors.append(elastic_A_ask.score(test_A[['time','bid1','bidsz1','ask1','asksz1',\n",
    "                           'bid2','bidsz2','ask2','asksz2',\n",
    "                          'bid3','bidsz3','ask3','asksz3']],test_A['ask']))\n",
    "    B_bid_train_errors.append(elastic_B_bid.score(test_B[['time','bid1','bidsz1','ask1','asksz1',\n",
    "                           'bid2','bidsz2','ask2','asksz2',\n",
    "                          'bid3','bidsz3','ask3','asksz3']],test_B['bid']))\n",
    "\n",
    "    B_ask_train_errors.append(elastic_B_ask.score(test_B[['time','bid1','bidsz1','ask1','asksz1',\n",
    "                           'bid2','bidsz2','ask2','asksz2',\n",
    "                          'bid3','bidsz3','ask3','asksz3']],test_B['ask']))    "
   ]
  },
  {
   "cell_type": "markdown",
   "metadata": {},
   "source": [
    "Here because the testing datasets are assumed to be unknown, so here we will only choose the model with the least errors upon training dataset."
   ]
  },
  {
   "cell_type": "code",
   "execution_count": 349,
   "metadata": {},
   "outputs": [],
   "source": [
    "### The regression coefficients\n",
    "elastic_A_bid.set_params(alpha=Alpha[np.argmax(A_bid_train_errors)])\n",
    "coef_A_bid=elastic_A_bid.fit(train_A[['time','bid1','bidsz1','ask1','asksz1',\n",
    "                           'bid2','bidsz2','ask2','asksz2',\n",
    "                          'bid3','bidsz3','ask3','asksz3']],train_A['bid']).coef_\n",
    "intc_A_bid=elastic_A_bid.fit(train_A[['time','bid1','bidsz1','ask1','asksz1',\n",
    "                           'bid2','bidsz2','ask2','asksz2',\n",
    "                          'bid3','bidsz3','ask3','asksz3']],train_A['bid']).intercept_\n",
    "A_bid_test_errors=elastic_A_bid.score(test_A[['time','bid1','bidsz1','ask1','asksz1',\n",
    "                           'bid2','bidsz2','ask2','asksz2',\n",
    "                          'bid3','bidsz3','ask3','asksz3']],test_A['bid'])\n",
    "\n",
    "elastic_A_ask.set_params(alpha=Alpha[np.argmax(A_ask_train_errors)])\n",
    "coef_A_ask=elastic_A_ask.fit(train_A[['time','bid1','bidsz1','ask1','asksz1',\n",
    "                           'bid2','bidsz2','ask2','asksz2',\n",
    "                           'bid3','bidsz3','ask3','asksz3']],train_A['ask']).coef_           \n",
    "intc_A_ask=elastic_A_ask.fit(train_A[['time','bid1','bidsz1','ask1','asksz1',\n",
    "                           'bid2','bidsz2','ask2','asksz2',\n",
    "                          'bid3','bidsz3','ask3','asksz3']],train_A['ask']).intercept_\n",
    "A_ask_test_errors=elastic_A_ask.score(test_A[['time','bid1','bidsz1','ask1','asksz1',\n",
    "                           'bid2','bidsz2','ask2','asksz2',\n",
    "                          'bid3','bidsz3','ask3','asksz3']],test_A['ask'])\n",
    "\n",
    "elastic_B_bid.set_params(alpha=Alpha[np.argmax(B_bid_train_errors)])\n",
    "coef_B_bid=elastic_B_bid.fit(train_B[['time','bid1','bidsz1','ask1','asksz1',\n",
    "                           'bid2','bidsz2','ask2','asksz2',\n",
    "                          'bid3','bidsz3','ask3','asksz3']],train_B['bid']).coef_\n",
    "intc_B_bid=elastic_B_bid.fit(train_B[['time','bid1','bidsz1','ask1','asksz1',\n",
    "                           'bid2','bidsz2','ask2','asksz2',\n",
    "                          'bid3','bidsz3','ask3','asksz3']],train_B['bid']).intercept_                                      \n",
    "B_bid_test_errors=elastic_B_bid.score(test_B[['time','bid1','bidsz1','ask1','asksz1',\n",
    "                           'bid2','bidsz2','ask2','asksz2',\n",
    "                          'bid3','bidsz3','ask3','asksz3']],test_B['bid'])\n",
    "\n",
    "elastic_B_ask.set_params(alpha=Alpha[np.argmax(B_ask_train_errors)])\n",
    "coef_B_ask=elastic_B_ask.fit(train_B[['time','bid1','bidsz1','ask1','asksz1',\n",
    "                           'bid2','bidsz2','ask2','asksz2',\n",
    "                          'bid3','bidsz3','ask3','asksz3']],train_B['ask']).coef_\n",
    "intc_B_ask=elastic_B_ask.fit(train_B[['time','bid1','bidsz1','ask1','asksz1',\n",
    "                           'bid2','bidsz2','ask2','asksz2',\n",
    "                          'bid3','bidsz3','ask3','asksz3']],train_B['ask']).intercept_                                     \n",
    "B_ask_test_errors=elastic_B_ask.score(test_B[['time','bid1','bidsz1','ask1','asksz1',\n",
    "                           'bid2','bidsz2','ask2','asksz2',\n",
    "                          'bid3','bidsz3','ask3','asksz3']],test_B['ask']) "
   ]
  },
  {
   "cell_type": "markdown",
   "metadata": {},
   "source": [
    "#### Comparison of the four models using the score method in linear_model"
   ]
  },
  {
   "cell_type": "code",
   "execution_count": 350,
   "metadata": {},
   "outputs": [],
   "source": [
    "test_A_bid=test_A['bid']\n",
    "test_A_ask=test_A['ask']\n",
    "test_B_bid=test_B['bid']\n",
    "test_B_ask=test_B['ask']\n",
    "\n",
    "test_XA=test_A[['time','bid1','bidsz1','ask1','asksz1',\n",
    "                      'bid2','bidsz2','ask2','asksz2',\n",
    "                      'bid3','bidsz3','ask3','asksz3']]\n",
    "test_XB=test_B[['time','bid1','bidsz1','ask1','asksz1',\n",
    "                      'bid2','bidsz2','ask2','asksz2',\n",
    "                      'bid3','bidsz3','ask3','asksz3']]"
   ]
  },
  {
   "cell_type": "markdown",
   "metadata": {},
   "source": [
    "##### For `bid` in Stock A:"
   ]
  },
  {
   "cell_type": "code",
   "execution_count": 351,
   "metadata": {},
   "outputs": [
    {
     "data": {
      "text/plain": [
       "[0.9976620837671039, 0.9976837549744517, 0.9976606438954244]"
      ]
     },
     "execution_count": 351,
     "metadata": {},
     "output_type": "execute_result"
    }
   ],
   "source": [
    "ols_score_bid=ols_A_bid.score(test_XA,test_A_bid)\n",
    "ss_score_bid=ss_A_bid.score(test_XA[['time','bid1',\n",
    "         'bidsz1','ask1','asksz1','bid2',\n",
    "         'bidsz2','ask2','bid3','asksz3']],test_A_bid)\n",
    "ela_score_bid=A_bid_test_errors\n",
    "T=[ols_score_bid,ss_score_bid,ela_score_bid]\n",
    "T"
   ]
  },
  {
   "cell_type": "markdown",
   "metadata": {},
   "source": [
    "From the result, the three methods are similar, and the Backward Selection model performs the best. The model is as following: (Here we list the coefficients into a table)"
   ]
  },
  {
   "cell_type": "code",
   "execution_count": 352,
   "metadata": {},
   "outputs": [
    {
     "data": {
      "text/html": [
       "<div>\n",
       "<style scoped>\n",
       "    .dataframe tbody tr th:only-of-type {\n",
       "        vertical-align: middle;\n",
       "    }\n",
       "\n",
       "    .dataframe tbody tr th {\n",
       "        vertical-align: top;\n",
       "    }\n",
       "\n",
       "    .dataframe thead th {\n",
       "        text-align: right;\n",
       "    }\n",
       "</style>\n",
       "<table border=\"1\" class=\"dataframe\">\n",
       "  <thead>\n",
       "    <tr style=\"text-align: right;\">\n",
       "      <th></th>\n",
       "      <th>0</th>\n",
       "      <th>1</th>\n",
       "      <th>2</th>\n",
       "      <th>3</th>\n",
       "      <th>4</th>\n",
       "      <th>5</th>\n",
       "      <th>6</th>\n",
       "      <th>7</th>\n",
       "      <th>8</th>\n",
       "      <th>9</th>\n",
       "      <th>10</th>\n",
       "    </tr>\n",
       "  </thead>\n",
       "  <tbody>\n",
       "    <tr>\n",
       "      <th>0</th>\n",
       "      <td>Intercept</td>\n",
       "      <td>time</td>\n",
       "      <td>bid1</td>\n",
       "      <td>bidsz1</td>\n",
       "      <td>ask1</td>\n",
       "      <td>asksz1</td>\n",
       "      <td>bid2</td>\n",
       "      <td>bidsz2</td>\n",
       "      <td>ask2</td>\n",
       "      <td>bid3</td>\n",
       "      <td>asksz3</td>\n",
       "    </tr>\n",
       "    <tr>\n",
       "      <th>1</th>\n",
       "      <td>26.5246</td>\n",
       "      <td>5.36808e-06</td>\n",
       "      <td>0.920987</td>\n",
       "      <td>0.000207072</td>\n",
       "      <td>0.0414963</td>\n",
       "      <td>-0.000419963</td>\n",
       "      <td>0.00911806</td>\n",
       "      <td>0.000473692</td>\n",
       "      <td>0.0167763</td>\n",
       "      <td>0.00518838</td>\n",
       "      <td>0.000390145</td>\n",
       "    </tr>\n",
       "  </tbody>\n",
       "</table>\n",
       "</div>"
      ],
      "text/plain": [
       "          0            1         2            3          4            5   \\\n",
       "0  Intercept         time      bid1       bidsz1       ask1       asksz1   \n",
       "1    26.5246  5.36808e-06  0.920987  0.000207072  0.0414963 -0.000419963   \n",
       "\n",
       "           6            7          8           9            10  \n",
       "0        bid2       bidsz2       ask2        bid3       asksz3  \n",
       "1  0.00911806  0.000473692  0.0167763  0.00518838  0.000390145  "
      ]
     },
     "execution_count": 352,
     "metadata": {},
     "output_type": "execute_result"
    }
   ],
   "source": [
    "predictor=['Intercept','time','bid1',\n",
    "         'bidsz1','ask1','asksz1','bid2',\n",
    "         'bidsz2','ask2','bid3','asksz3']\n",
    "Coef=np.hstack((np.array(ss_A_bid.intercept_),ss_A_bid.coef_))\n",
    "DT_Abid=pd.DataFrame([predictor,Coef])\n",
    "DT_Abid"
   ]
  },
  {
   "cell_type": "markdown",
   "metadata": {},
   "source": [
    "Here we note that $bid_x$ means the bid value of the previous $x_{th}$ record; and the actually time for Stock A is $(time-1800100887)\\times 10^{-6}$ (to transform into seconds).\n",
    "\n",
    "For Stock B, the time value is $(time-1800019613)\\times 10^{-6}$"
   ]
  },
  {
   "cell_type": "markdown",
   "metadata": {},
   "source": [
    "##### For `ask` in Stock A:"
   ]
  },
  {
   "cell_type": "code",
   "execution_count": 353,
   "metadata": {},
   "outputs": [
    {
     "data": {
      "text/plain": [
       "[0.9988693418155155, 0.8190989590475375, 0.9988978771908976]"
      ]
     },
     "execution_count": 353,
     "metadata": {},
     "output_type": "execute_result"
    }
   ],
   "source": [
    "ols_score_ask=ols_A_ask.score(test_XA,test_A_ask)\n",
    "ss_score_ask=ss_A_ask.score(test_XA[['time','bid1',\n",
    "         'bidsz1','ask1','asksz1','bid2',\n",
    "         'bidsz2','ask2','bid3','asksz3']],test_A_ask)\n",
    "ela_score_ask=A_ask_test_errors\n",
    "T=[ols_score_ask,ss_score_ask,ela_score_ask]\n",
    "T"
   ]
  },
  {
   "cell_type": "markdown",
   "metadata": {},
   "source": [
    "From the result, the Elastic Net model performs the best. The model is as following: (Here we list the coefficients into a table)"
   ]
  },
  {
   "cell_type": "code",
   "execution_count": 354,
   "metadata": {},
   "outputs": [
    {
     "data": {
      "text/html": [
       "<div>\n",
       "<style scoped>\n",
       "    .dataframe tbody tr th:only-of-type {\n",
       "        vertical-align: middle;\n",
       "    }\n",
       "\n",
       "    .dataframe tbody tr th {\n",
       "        vertical-align: top;\n",
       "    }\n",
       "\n",
       "    .dataframe thead th {\n",
       "        text-align: right;\n",
       "    }\n",
       "</style>\n",
       "<table border=\"1\" class=\"dataframe\">\n",
       "  <thead>\n",
       "    <tr style=\"text-align: right;\">\n",
       "      <th></th>\n",
       "      <th>0</th>\n",
       "      <th>1</th>\n",
       "      <th>2</th>\n",
       "      <th>3</th>\n",
       "      <th>4</th>\n",
       "      <th>5</th>\n",
       "      <th>6</th>\n",
       "      <th>7</th>\n",
       "      <th>8</th>\n",
       "      <th>9</th>\n",
       "      <th>10</th>\n",
       "      <th>11</th>\n",
       "      <th>12</th>\n",
       "      <th>13</th>\n",
       "    </tr>\n",
       "  </thead>\n",
       "  <tbody>\n",
       "    <tr>\n",
       "      <th>0</th>\n",
       "      <td>Intercept</td>\n",
       "      <td>time</td>\n",
       "      <td>bid1</td>\n",
       "      <td>bidsz1</td>\n",
       "      <td>ask1</td>\n",
       "      <td>asksz1</td>\n",
       "      <td>bid2</td>\n",
       "      <td>bidsz2</td>\n",
       "      <td>ask2</td>\n",
       "      <td>asksz2</td>\n",
       "      <td>bid3</td>\n",
       "      <td>bidsz3</td>\n",
       "      <td>ask3</td>\n",
       "      <td>asksz3</td>\n",
       "    </tr>\n",
       "    <tr>\n",
       "      <th>1</th>\n",
       "      <td>7.4791</td>\n",
       "      <td>1.4586e-06</td>\n",
       "      <td>0</td>\n",
       "      <td>-0</td>\n",
       "      <td>0.902697</td>\n",
       "      <td>-0</td>\n",
       "      <td>0.00779197</td>\n",
       "      <td>-0</td>\n",
       "      <td>0.0826555</td>\n",
       "      <td>-0.000572804</td>\n",
       "      <td>0.00422639</td>\n",
       "      <td>-0</td>\n",
       "      <td>0.000831963</td>\n",
       "      <td>-0</td>\n",
       "    </tr>\n",
       "  </tbody>\n",
       "</table>\n",
       "</div>"
      ],
      "text/plain": [
       "          0           1     2       3         4       5           6       7   \\\n",
       "0  Intercept        time  bid1  bidsz1      ask1  asksz1        bid2  bidsz2   \n",
       "1     7.4791  1.4586e-06     0      -0  0.902697      -0  0.00779197      -0   \n",
       "\n",
       "          8            9           10      11           12      13  \n",
       "0       ask2       asksz2        bid3  bidsz3         ask3  asksz3  \n",
       "1  0.0826555 -0.000572804  0.00422639      -0  0.000831963      -0  "
      ]
     },
     "execution_count": 354,
     "metadata": {},
     "output_type": "execute_result"
    }
   ],
   "source": [
    "predictor=['Intercept','time','bid1','bidsz1','ask1','asksz1',\n",
    "                           'bid2','bidsz2','ask2','asksz2',\n",
    "                          'bid3','bidsz3','ask3','asksz3']\n",
    "Coef=np.hstack((np.array(intc_A_ask),coef_A_ask))\n",
    "DT_Abid=pd.DataFrame([predictor,Coef])\n",
    "DT_Abid"
   ]
  },
  {
   "cell_type": "markdown",
   "metadata": {},
   "source": [
    "##### For `bid` in Stock B:"
   ]
  },
  {
   "cell_type": "code",
   "execution_count": 355,
   "metadata": {},
   "outputs": [
    {
     "data": {
      "text/plain": [
       "[0.9882326138636893, 0.9882037430876696, 0.9882728534973456]"
      ]
     },
     "execution_count": 355,
     "metadata": {},
     "output_type": "execute_result"
    }
   ],
   "source": [
    "ols_score_bid=ols_B_bid.score(test_XB,test_B_bid)\n",
    "ss_score_bid=ss_B_bid.score(test_XB[['time','bid1',\n",
    "         'bidsz1','ask1','bid2',\n",
    "         'bidsz2','ask2','bid3','asksz3']],test_B_bid)\n",
    "ela_score_bid=B_bid_test_errors\n",
    "T=[ols_score_bid,ss_score_bid,ela_score_bid]\n",
    "T"
   ]
  },
  {
   "cell_type": "markdown",
   "metadata": {},
   "source": [
    "From the result, the Elastic Net model performs the best. The model is as following: (Here we list the coefficients into a table)"
   ]
  },
  {
   "cell_type": "code",
   "execution_count": 356,
   "metadata": {},
   "outputs": [
    {
     "data": {
      "text/html": [
       "<div>\n",
       "<style scoped>\n",
       "    .dataframe tbody tr th:only-of-type {\n",
       "        vertical-align: middle;\n",
       "    }\n",
       "\n",
       "    .dataframe tbody tr th {\n",
       "        vertical-align: top;\n",
       "    }\n",
       "\n",
       "    .dataframe thead th {\n",
       "        text-align: right;\n",
       "    }\n",
       "</style>\n",
       "<table border=\"1\" class=\"dataframe\">\n",
       "  <thead>\n",
       "    <tr style=\"text-align: right;\">\n",
       "      <th></th>\n",
       "      <th>0</th>\n",
       "      <th>1</th>\n",
       "      <th>2</th>\n",
       "      <th>3</th>\n",
       "      <th>4</th>\n",
       "      <th>5</th>\n",
       "      <th>6</th>\n",
       "      <th>7</th>\n",
       "      <th>8</th>\n",
       "      <th>9</th>\n",
       "      <th>10</th>\n",
       "      <th>11</th>\n",
       "      <th>12</th>\n",
       "      <th>13</th>\n",
       "    </tr>\n",
       "  </thead>\n",
       "  <tbody>\n",
       "    <tr>\n",
       "      <th>0</th>\n",
       "      <td>Intercept</td>\n",
       "      <td>time</td>\n",
       "      <td>bid1</td>\n",
       "      <td>bidsz1</td>\n",
       "      <td>ask1</td>\n",
       "      <td>asksz1</td>\n",
       "      <td>bid2</td>\n",
       "      <td>bidsz2</td>\n",
       "      <td>ask2</td>\n",
       "      <td>asksz2</td>\n",
       "      <td>bid3</td>\n",
       "      <td>bidsz3</td>\n",
       "      <td>ask3</td>\n",
       "      <td>asksz3</td>\n",
       "    </tr>\n",
       "    <tr>\n",
       "      <th>1</th>\n",
       "      <td>21.9184</td>\n",
       "      <td>6.8668e-06</td>\n",
       "      <td>0.89336</td>\n",
       "      <td>0.0101183</td>\n",
       "      <td>0.100808</td>\n",
       "      <td>-0.000834387</td>\n",
       "      <td>0.0390216</td>\n",
       "      <td>0.00119309</td>\n",
       "      <td>-0.0444193</td>\n",
       "      <td>0.000267683</td>\n",
       "      <td>0.0248335</td>\n",
       "      <td>-0.00289434</td>\n",
       "      <td>-0.0160345</td>\n",
       "      <td>-1.42489e-05</td>\n",
       "    </tr>\n",
       "  </tbody>\n",
       "</table>\n",
       "</div>"
      ],
      "text/plain": [
       "          0           1        2          3         4            5   \\\n",
       "0  Intercept        time     bid1     bidsz1      ask1       asksz1   \n",
       "1    21.9184  6.8668e-06  0.89336  0.0101183  0.100808 -0.000834387   \n",
       "\n",
       "          6           7          8            9          10          11  \\\n",
       "0       bid2      bidsz2       ask2       asksz2       bid3      bidsz3   \n",
       "1  0.0390216  0.00119309 -0.0444193  0.000267683  0.0248335 -0.00289434   \n",
       "\n",
       "          12           13  \n",
       "0       ask3       asksz3  \n",
       "1 -0.0160345 -1.42489e-05  "
      ]
     },
     "execution_count": 356,
     "metadata": {},
     "output_type": "execute_result"
    }
   ],
   "source": [
    "predictor=['Intercept','time','bid1','bidsz1','ask1','asksz1',\n",
    "                           'bid2','bidsz2','ask2','asksz2',\n",
    "                          'bid3','bidsz3','ask3','asksz3']\n",
    "Coef=np.hstack((np.array(intc_B_bid),coef_B_bid))\n",
    "DT_Abid=pd.DataFrame([predictor,Coef])\n",
    "DT_Abid"
   ]
  },
  {
   "cell_type": "markdown",
   "metadata": {},
   "source": [
    "##### For `ask` in Stock B:"
   ]
  },
  {
   "cell_type": "code",
   "execution_count": 357,
   "metadata": {},
   "outputs": [
    {
     "data": {
      "text/plain": [
       "[0.9860500790317751, 0.7434412798438634, 0.9902776637232401]"
      ]
     },
     "execution_count": 357,
     "metadata": {},
     "output_type": "execute_result"
    }
   ],
   "source": [
    "ols_score_ask=ols_B_ask.score(test_XB,test_B_ask)\n",
    "ss_score_ask=ss_B_ask.score(test_XB[['time','bid1',\n",
    "         'ask1','asksz1','bidsz2','ask2','asksz2',\n",
    "         'bid3','bidsz3','ask3','asksz3']],test_B_ask)\n",
    "ela_score_ask=B_ask_test_errors\n",
    "T=[ols_score_ask,ss_score_ask,ela_score_ask]\n",
    "T"
   ]
  },
  {
   "cell_type": "markdown",
   "metadata": {},
   "source": [
    "From the result, the Elastic Net model performs the best. The model is as following: (Here we list the coefficients into a table)"
   ]
  },
  {
   "cell_type": "code",
   "execution_count": 358,
   "metadata": {},
   "outputs": [
    {
     "data": {
      "text/html": [
       "<div>\n",
       "<style scoped>\n",
       "    .dataframe tbody tr th:only-of-type {\n",
       "        vertical-align: middle;\n",
       "    }\n",
       "\n",
       "    .dataframe tbody tr th {\n",
       "        vertical-align: top;\n",
       "    }\n",
       "\n",
       "    .dataframe thead th {\n",
       "        text-align: right;\n",
       "    }\n",
       "</style>\n",
       "<table border=\"1\" class=\"dataframe\">\n",
       "  <thead>\n",
       "    <tr style=\"text-align: right;\">\n",
       "      <th></th>\n",
       "      <th>0</th>\n",
       "      <th>1</th>\n",
       "      <th>2</th>\n",
       "      <th>3</th>\n",
       "      <th>4</th>\n",
       "      <th>5</th>\n",
       "      <th>6</th>\n",
       "      <th>7</th>\n",
       "      <th>8</th>\n",
       "      <th>9</th>\n",
       "      <th>10</th>\n",
       "      <th>11</th>\n",
       "      <th>12</th>\n",
       "      <th>13</th>\n",
       "    </tr>\n",
       "  </thead>\n",
       "  <tbody>\n",
       "    <tr>\n",
       "      <th>0</th>\n",
       "      <td>Intercept</td>\n",
       "      <td>time</td>\n",
       "      <td>bid1</td>\n",
       "      <td>bidsz1</td>\n",
       "      <td>ask1</td>\n",
       "      <td>asksz1</td>\n",
       "      <td>bid2</td>\n",
       "      <td>bidsz2</td>\n",
       "      <td>ask2</td>\n",
       "      <td>asksz2</td>\n",
       "      <td>bid3</td>\n",
       "      <td>bidsz3</td>\n",
       "      <td>ask3</td>\n",
       "      <td>asksz3</td>\n",
       "    </tr>\n",
       "    <tr>\n",
       "      <th>1</th>\n",
       "      <td>44.0876</td>\n",
       "      <td>6.28442e-06</td>\n",
       "      <td>0.0110529</td>\n",
       "      <td>-0</td>\n",
       "      <td>0.779983</td>\n",
       "      <td>-0.00127422</td>\n",
       "      <td>0.0136981</td>\n",
       "      <td>0</td>\n",
       "      <td>0.146873</td>\n",
       "      <td>-0.00189668</td>\n",
       "      <td>0</td>\n",
       "      <td>-0</td>\n",
       "      <td>0.0435523</td>\n",
       "      <td>-0</td>\n",
       "    </tr>\n",
       "  </tbody>\n",
       "</table>\n",
       "</div>"
      ],
      "text/plain": [
       "          0            1          2       3         4           5          6   \\\n",
       "0  Intercept         time       bid1  bidsz1      ask1      asksz1       bid2   \n",
       "1    44.0876  6.28442e-06  0.0110529      -0  0.779983 -0.00127422  0.0136981   \n",
       "\n",
       "       7         8           9     10      11         12      13  \n",
       "0  bidsz2      ask2      asksz2  bid3  bidsz3       ask3  asksz3  \n",
       "1       0  0.146873 -0.00189668     0      -0  0.0435523      -0  "
      ]
     },
     "execution_count": 358,
     "metadata": {},
     "output_type": "execute_result"
    }
   ],
   "source": [
    "predictor=['Intercept','time','bid1','bidsz1','ask1','asksz1',\n",
    "                           'bid2','bidsz2','ask2','asksz2',\n",
    "                          'bid3','bidsz3','ask3','asksz3']\n",
    "Coef=np.hstack((np.array(intc_B_ask),coef_B_ask))\n",
    "DT_Abid=pd.DataFrame([predictor,Coef])\n",
    "DT_Abid"
   ]
  },
  {
   "cell_type": "markdown",
   "metadata": {},
   "source": [
    "Until now we finished the construction of the linear model upon `bid` and `ask` using previous records."
   ]
  },
  {
   "cell_type": "markdown",
   "metadata": {},
   "source": [
    "### Part 2: Prediction of the stock quantities when disregarding the time of change"
   ]
  },
  {
   "cell_type": "markdown",
   "metadata": {},
   "source": [
    "Here the value of the quantities are positive integers; so here we will regard the Count Regression model (actually the Poisson Regression). The mathematical model of the Count Regression is:\n",
    "$$log(\\mu_i)=\\beta_0+\\beta_1 x_1+\\beta_2 x_2+...+\\beta_p x_p$$\n",
    "The construction codes are as following:"
   ]
  },
  {
   "cell_type": "code",
   "execution_count": 366,
   "metadata": {},
   "outputs": [
    {
     "name": "stdout",
     "output_type": "stream",
     "text": [
      "Optimization terminated successfully.    (Exit mode 0)\n",
      "            Current function value: 0.8999860216498349\n",
      "            Iterations: 189\n",
      "            Function evaluations: 364\n",
      "            Gradient evaluations: 189\n",
      "Optimization terminated successfully.    (Exit mode 0)\n",
      "            Current function value: 0.9189608957873985\n",
      "            Iterations: 158\n",
      "            Function evaluations: 387\n",
      "            Gradient evaluations: 158\n",
      "Optimization terminated successfully.    (Exit mode 0)\n",
      "            Current function value: nan\n",
      "            Iterations: 82\n",
      "            Function evaluations: 359\n",
      "            Gradient evaluations: 81\n",
      "Optimization terminated successfully.    (Exit mode 0)\n",
      "            Current function value: nan\n",
      "            Iterations: 47\n",
      "            Function evaluations: 214\n",
      "            Gradient evaluations: 47\n"
     ]
    }
   ],
   "source": [
    "## To begin with, we will make some preparations\n",
    "from statsmodels.discrete.discrete_model import GeneralizedPoisson\n",
    "\n",
    "poisson = GeneralizedPoisson.from_formula\n",
    "\n",
    "## Now begin our regression. \n",
    "poi_Abid=poisson('bidsz~time+bid1+bidsz1+ask1+asksz1+\\\n",
    "                             bid2+bidsz2+ask2+asksz2+\\\n",
    "                             bid3+bidsz3+ask3+asksz3',l_trainA).fit_regularized()\n",
    "poi_Aask=poisson('asksz~time+bid1+bidsz1+ask1+asksz1+\\\n",
    "                             bid2+bidsz2+ask2+asksz2+\\\n",
    "                             bid3+bidsz3+ask3+asksz3',l_trainA).fit_regularized()\n",
    "poi_Bbid=poisson('bidsz~time+bid1+bidsz1+ask1+asksz1+\\\n",
    "                             bid2+bidsz2+ask2+asksz2+\\\n",
    "                             bid3+bidsz3+ask3+asksz3',l_trainB).fit_regularized()\n",
    "poi_Bask=poisson('asksz~time+bid1+bidsz1+ask1+asksz1+\\\n",
    "                             bid2+bidsz2+ask2+asksz2+\\\n",
    "                             bid3+bidsz3+ask3+asksz3',l_trainB).fit_regularized()"
   ]
  },
  {
   "cell_type": "code",
   "execution_count": 367,
   "metadata": {},
   "outputs": [
    {
     "data": {
      "text/plain": [
       "[1.7205289592161213,\n",
       " 1.0307318650383732,\n",
       " 0.7072454416497214,\n",
       " 2.9954605595576482]"
      ]
     },
     "execution_count": 367,
     "metadata": {},
     "output_type": "execute_result"
    }
   ],
   "source": [
    "## Calculating the MSEs\n",
    "pred_A_bidsz=np.array(poi_Abid.predict(l_testA))\n",
    "pred_A_asksz=np.array(poi_Aask.predict(l_testA))\n",
    "pred_B_bidsz=np.array(poi_Bbid.predict(l_testB))\n",
    "pred_B_asksz=np.array(poi_Bask.predict(l_testB))\n",
    "\n",
    "T_Abidsz=np.array(l_testA['bidsz'])\n",
    "T_Aasksz=np.array(l_testA['asksz'])\n",
    "T_Bbidsz=np.array(l_testB['bidsz'])\n",
    "T_Basksz=np.array(l_testB['asksz'])\n",
    "\n",
    "MSE_Abidsz=np.sqrt(np.mean((pred_A_bidsz-T_Abidsz)**2))\n",
    "MSE_Aasksz=np.sqrt(np.mean((pred_A_asksz-T_Aasksz)**2))\n",
    "MSE_Bbidsz=np.sqrt(np.mean((pred_B_bidsz-T_Bbidsz)**2))\n",
    "MSE_Basksz=np.sqrt(np.mean((pred_B_asksz-T_Basksz)**2))\n",
    "\n",
    "MSE=[MSE_Abidsz,MSE_Aasksz,MSE_Bbidsz,MSE_Basksz]\n",
    "MSE"
   ]
  },
  {
   "cell_type": "markdown",
   "metadata": {},
   "source": [
    "From the MSE results, this Count Regression is reasonable. Finally, we give out the regression coefficients as following:"
   ]
  },
  {
   "cell_type": "code",
   "execution_count": 361,
   "metadata": {},
   "outputs": [
    {
     "data": {
      "text/html": [
       "<table class=\"simpletable\">\n",
       "<caption>GeneralizedPoisson Regression Results</caption>\n",
       "<tr>\n",
       "  <th>Dep. Variable:</th>          <td>bidsz</td>       <th>  No. Observations:  </th>  <td> 58339</td> \n",
       "</tr>\n",
       "<tr>\n",
       "  <th>Model:</th>           <td>GeneralizedPoisson</td> <th>  Df Residuals:      </th>  <td> 58325</td> \n",
       "</tr>\n",
       "<tr>\n",
       "  <th>Method:</th>                  <td>MLE</td>        <th>  Df Model:          </th>  <td>    13</td> \n",
       "</tr>\n",
       "<tr>\n",
       "  <th>Date:</th>             <td>Thu, 26 Dec 2019</td>  <th>  Pseudo R-squ.:     </th>  <td>0.3085</td> \n",
       "</tr>\n",
       "<tr>\n",
       "  <th>Time:</th>                 <td>08:06:54</td>      <th>  Log-Likelihood:    </th> <td> -52504.</td>\n",
       "</tr>\n",
       "<tr>\n",
       "  <th>converged:</th>              <td>True</td>        <th>  LL-Null:           </th> <td> -75932.</td>\n",
       "</tr>\n",
       "<tr>\n",
       "  <th>Covariance Type:</th>      <td>nonrobust</td>     <th>  LLR p-value:       </th>  <td> 0.000</td> \n",
       "</tr>\n",
       "</table>\n",
       "<table class=\"simpletable\">\n",
       "<tr>\n",
       "      <td></td>         <th>coef</th>     <th>std err</th>      <th>z</th>      <th>P>|z|</th>  <th>[0.025</th>    <th>0.975]</th>  \n",
       "</tr>\n",
       "<tr>\n",
       "  <th>Intercept</th> <td>    0.0615</td> <td>    0.443</td> <td>    0.139</td> <td> 0.890</td> <td>   -0.807</td> <td>    0.930</td>\n",
       "</tr>\n",
       "<tr>\n",
       "  <th>time</th>      <td> 5.583e-06</td> <td> 7.84e-08</td> <td>   71.196</td> <td> 0.000</td> <td> 5.43e-06</td> <td> 5.74e-06</td>\n",
       "</tr>\n",
       "<tr>\n",
       "  <th>bid1</th>      <td>    0.0008</td> <td>    0.001</td> <td>    0.759</td> <td> 0.448</td> <td>   -0.001</td> <td>    0.003</td>\n",
       "</tr>\n",
       "<tr>\n",
       "  <th>bidsz1</th>    <td>    0.0056</td> <td>    0.000</td> <td>   50.528</td> <td> 0.000</td> <td>    0.005</td> <td>    0.006</td>\n",
       "</tr>\n",
       "<tr>\n",
       "  <th>ask1</th>      <td>    0.0108</td> <td>    0.004</td> <td>    2.606</td> <td> 0.009</td> <td>    0.003</td> <td>    0.019</td>\n",
       "</tr>\n",
       "<tr>\n",
       "  <th>asksz1</th>    <td>    0.0001</td> <td> 9.17e-05</td> <td>    1.580</td> <td> 0.114</td> <td>-3.48e-05</td> <td>    0.000</td>\n",
       "</tr>\n",
       "<tr>\n",
       "  <th>bid2</th>      <td>    0.0009</td> <td>    0.001</td> <td>    0.656</td> <td> 0.512</td> <td>   -0.002</td> <td>    0.004</td>\n",
       "</tr>\n",
       "<tr>\n",
       "  <th>bidsz2</th>    <td>   -0.0006</td> <td>    0.000</td> <td>   -3.817</td> <td> 0.000</td> <td>   -0.001</td> <td>   -0.000</td>\n",
       "</tr>\n",
       "<tr>\n",
       "  <th>ask2</th>      <td>    0.0028</td> <td>    0.006</td> <td>    0.479</td> <td> 0.632</td> <td>   -0.009</td> <td>    0.014</td>\n",
       "</tr>\n",
       "<tr>\n",
       "  <th>asksz2</th>    <td>   -0.0001</td> <td>    0.000</td> <td>   -1.020</td> <td> 0.308</td> <td>   -0.000</td> <td>    0.000</td>\n",
       "</tr>\n",
       "<tr>\n",
       "  <th>bid3</th>      <td>    0.0006</td> <td>    0.001</td> <td>    0.611</td> <td> 0.541</td> <td>   -0.001</td> <td>    0.003</td>\n",
       "</tr>\n",
       "<tr>\n",
       "  <th>bidsz3</th>    <td>    0.0002</td> <td>    0.000</td> <td>    1.615</td> <td> 0.106</td> <td>-4.23e-05</td> <td>    0.000</td>\n",
       "</tr>\n",
       "<tr>\n",
       "  <th>ask3</th>      <td>   -0.0157</td> <td>    0.004</td> <td>   -3.935</td> <td> 0.000</td> <td>   -0.024</td> <td>   -0.008</td>\n",
       "</tr>\n",
       "<tr>\n",
       "  <th>asksz3</th>    <td>    0.0004</td> <td>    0.000</td> <td>    3.114</td> <td> 0.002</td> <td>    0.000</td> <td>    0.001</td>\n",
       "</tr>\n",
       "<tr>\n",
       "  <th>alpha</th>     <td>   -0.6365</td> <td>    0.001</td> <td> -723.116</td> <td> 0.000</td> <td>   -0.638</td> <td>   -0.635</td>\n",
       "</tr>\n",
       "</table>"
      ],
      "text/plain": [
       "<class 'statsmodels.iolib.summary.Summary'>\n",
       "\"\"\"\n",
       "                    GeneralizedPoisson Regression Results                     \n",
       "==============================================================================\n",
       "Dep. Variable:                  bidsz   No. Observations:                58339\n",
       "Model:             GeneralizedPoisson   Df Residuals:                    58325\n",
       "Method:                           MLE   Df Model:                           13\n",
       "Date:                Thu, 26 Dec 2019   Pseudo R-squ.:                  0.3085\n",
       "Time:                        08:06:54   Log-Likelihood:                -52504.\n",
       "converged:                       True   LL-Null:                       -75932.\n",
       "Covariance Type:            nonrobust   LLR p-value:                     0.000\n",
       "==============================================================================\n",
       "                 coef    std err          z      P>|z|      [0.025      0.975]\n",
       "------------------------------------------------------------------------------\n",
       "Intercept      0.0615      0.443      0.139      0.890      -0.807       0.930\n",
       "time        5.583e-06   7.84e-08     71.196      0.000    5.43e-06    5.74e-06\n",
       "bid1           0.0008      0.001      0.759      0.448      -0.001       0.003\n",
       "bidsz1         0.0056      0.000     50.528      0.000       0.005       0.006\n",
       "ask1           0.0108      0.004      2.606      0.009       0.003       0.019\n",
       "asksz1         0.0001   9.17e-05      1.580      0.114   -3.48e-05       0.000\n",
       "bid2           0.0009      0.001      0.656      0.512      -0.002       0.004\n",
       "bidsz2        -0.0006      0.000     -3.817      0.000      -0.001      -0.000\n",
       "ask2           0.0028      0.006      0.479      0.632      -0.009       0.014\n",
       "asksz2        -0.0001      0.000     -1.020      0.308      -0.000       0.000\n",
       "bid3           0.0006      0.001      0.611      0.541      -0.001       0.003\n",
       "bidsz3         0.0002      0.000      1.615      0.106   -4.23e-05       0.000\n",
       "ask3          -0.0157      0.004     -3.935      0.000      -0.024      -0.008\n",
       "asksz3         0.0004      0.000      3.114      0.002       0.000       0.001\n",
       "alpha         -0.6365      0.001   -723.116      0.000      -0.638      -0.635\n",
       "==============================================================================\n",
       "\"\"\""
      ]
     },
     "execution_count": 361,
     "metadata": {},
     "output_type": "execute_result"
    }
   ],
   "source": [
    "poi_Abid.summary()"
   ]
  },
  {
   "cell_type": "code",
   "execution_count": 362,
   "metadata": {},
   "outputs": [
    {
     "data": {
      "text/html": [
       "<table class=\"simpletable\">\n",
       "<caption>GeneralizedPoisson Regression Results</caption>\n",
       "<tr>\n",
       "  <th>Dep. Variable:</th>          <td>asksz</td>       <th>  No. Observations:  </th>  <td> 58339</td> \n",
       "</tr>\n",
       "<tr>\n",
       "  <th>Model:</th>           <td>GeneralizedPoisson</td> <th>  Df Residuals:      </th>  <td> 58325</td> \n",
       "</tr>\n",
       "<tr>\n",
       "  <th>Method:</th>                  <td>MLE</td>        <th>  Df Model:          </th>  <td>    13</td> \n",
       "</tr>\n",
       "<tr>\n",
       "  <th>Date:</th>             <td>Thu, 26 Dec 2019</td>  <th>  Pseudo R-squ.:     </th>  <td>   nan</td> \n",
       "</tr>\n",
       "<tr>\n",
       "  <th>Time:</th>                 <td>08:09:08</td>      <th>  Log-Likelihood:    </th> <td> -53611.</td>\n",
       "</tr>\n",
       "<tr>\n",
       "  <th>converged:</th>              <td>True</td>        <th>  LL-Null:           </th> <td>     nan</td>\n",
       "</tr>\n",
       "<tr>\n",
       "  <th>Covariance Type:</th>      <td>nonrobust</td>     <th>  LLR p-value:       </th>  <td>   nan</td> \n",
       "</tr>\n",
       "</table>\n",
       "<table class=\"simpletable\">\n",
       "<tr>\n",
       "      <td></td>         <th>coef</th>     <th>std err</th>      <th>z</th>      <th>P>|z|</th>  <th>[0.025</th>    <th>0.975]</th>  \n",
       "</tr>\n",
       "<tr>\n",
       "  <th>Intercept</th> <td>   -4.6754</td> <td>    0.612</td> <td>   -7.642</td> <td> 0.000</td> <td>   -5.875</td> <td>   -3.476</td>\n",
       "</tr>\n",
       "<tr>\n",
       "  <th>time</th>      <td> 5.983e-07</td> <td> 1.21e-07</td> <td>    4.933</td> <td> 0.000</td> <td> 3.61e-07</td> <td> 8.36e-07</td>\n",
       "</tr>\n",
       "<tr>\n",
       "  <th>bid1</th>      <td>    0.0024</td> <td>    0.001</td> <td>    3.805</td> <td> 0.000</td> <td>    0.001</td> <td>    0.004</td>\n",
       "</tr>\n",
       "<tr>\n",
       "  <th>bidsz1</th>    <td>   -0.0003</td> <td>    0.000</td> <td>   -2.104</td> <td> 0.035</td> <td>   -0.000</td> <td>-1.72e-05</td>\n",
       "</tr>\n",
       "<tr>\n",
       "  <th>ask1</th>      <td>   -0.0092</td> <td>    0.004</td> <td>   -2.139</td> <td> 0.032</td> <td>   -0.018</td> <td>   -0.001</td>\n",
       "</tr>\n",
       "<tr>\n",
       "  <th>asksz1</th>    <td>    0.0054</td> <td> 5.14e-05</td> <td>  105.409</td> <td> 0.000</td> <td>    0.005</td> <td>    0.006</td>\n",
       "</tr>\n",
       "<tr>\n",
       "  <th>bid2</th>      <td>   -0.0025</td> <td>    0.001</td> <td>   -2.966</td> <td> 0.003</td> <td>   -0.004</td> <td>   -0.001</td>\n",
       "</tr>\n",
       "<tr>\n",
       "  <th>bidsz2</th>    <td>   -0.0005</td> <td>    0.000</td> <td>   -2.732</td> <td> 0.006</td> <td>   -0.001</td> <td>   -0.000</td>\n",
       "</tr>\n",
       "<tr>\n",
       "  <th>ask2</th>      <td>    0.0082</td> <td>    0.006</td> <td>    1.417</td> <td> 0.157</td> <td>   -0.003</td> <td>    0.019</td>\n",
       "</tr>\n",
       "<tr>\n",
       "  <th>asksz2</th>    <td>   -0.0007</td> <td> 5.89e-05</td> <td>  -11.577</td> <td> 0.000</td> <td>   -0.001</td> <td>   -0.001</td>\n",
       "</tr>\n",
       "<tr>\n",
       "  <th>bid3</th>      <td>    0.0040</td> <td>    0.001</td> <td>    6.959</td> <td> 0.000</td> <td>    0.003</td> <td>    0.005</td>\n",
       "</tr>\n",
       "<tr>\n",
       "  <th>bidsz3</th>    <td>    0.0025</td> <td> 9.78e-05</td> <td>   26.066</td> <td> 0.000</td> <td>    0.002</td> <td>    0.003</td>\n",
       "</tr>\n",
       "<tr>\n",
       "  <th>ask3</th>      <td>   -0.0014</td> <td>    0.004</td> <td>   -0.388</td> <td> 0.698</td> <td>   -0.009</td> <td>    0.006</td>\n",
       "</tr>\n",
       "<tr>\n",
       "  <th>asksz3</th>    <td>   -0.0003</td> <td> 3.41e-05</td> <td>   -7.411</td> <td> 0.000</td> <td>   -0.000</td> <td>   -0.000</td>\n",
       "</tr>\n",
       "<tr>\n",
       "  <th>alpha</th>     <td>   -0.6415</td> <td>    0.001</td> <td> -731.732</td> <td> 0.000</td> <td>   -0.643</td> <td>   -0.640</td>\n",
       "</tr>\n",
       "</table>"
      ],
      "text/plain": [
       "<class 'statsmodels.iolib.summary.Summary'>\n",
       "\"\"\"\n",
       "                    GeneralizedPoisson Regression Results                     \n",
       "==============================================================================\n",
       "Dep. Variable:                  asksz   No. Observations:                58339\n",
       "Model:             GeneralizedPoisson   Df Residuals:                    58325\n",
       "Method:                           MLE   Df Model:                           13\n",
       "Date:                Thu, 26 Dec 2019   Pseudo R-squ.:                     nan\n",
       "Time:                        08:09:08   Log-Likelihood:                -53611.\n",
       "converged:                       True   LL-Null:                           nan\n",
       "Covariance Type:            nonrobust   LLR p-value:                       nan\n",
       "==============================================================================\n",
       "                 coef    std err          z      P>|z|      [0.025      0.975]\n",
       "------------------------------------------------------------------------------\n",
       "Intercept     -4.6754      0.612     -7.642      0.000      -5.875      -3.476\n",
       "time        5.983e-07   1.21e-07      4.933      0.000    3.61e-07    8.36e-07\n",
       "bid1           0.0024      0.001      3.805      0.000       0.001       0.004\n",
       "bidsz1        -0.0003      0.000     -2.104      0.035      -0.000   -1.72e-05\n",
       "ask1          -0.0092      0.004     -2.139      0.032      -0.018      -0.001\n",
       "asksz1         0.0054   5.14e-05    105.409      0.000       0.005       0.006\n",
       "bid2          -0.0025      0.001     -2.966      0.003      -0.004      -0.001\n",
       "bidsz2        -0.0005      0.000     -2.732      0.006      -0.001      -0.000\n",
       "ask2           0.0082      0.006      1.417      0.157      -0.003       0.019\n",
       "asksz2        -0.0007   5.89e-05    -11.577      0.000      -0.001      -0.001\n",
       "bid3           0.0040      0.001      6.959      0.000       0.003       0.005\n",
       "bidsz3         0.0025   9.78e-05     26.066      0.000       0.002       0.003\n",
       "ask3          -0.0014      0.004     -0.388      0.698      -0.009       0.006\n",
       "asksz3        -0.0003   3.41e-05     -7.411      0.000      -0.000      -0.000\n",
       "alpha         -0.6415      0.001   -731.732      0.000      -0.643      -0.640\n",
       "==============================================================================\n",
       "\"\"\""
      ]
     },
     "execution_count": 362,
     "metadata": {},
     "output_type": "execute_result"
    }
   ],
   "source": [
    "poi_Aask.summary()"
   ]
  },
  {
   "cell_type": "code",
   "execution_count": 363,
   "metadata": {},
   "outputs": [
    {
     "data": {
      "text/html": [
       "<table class=\"simpletable\">\n",
       "<caption>GeneralizedPoisson Regression Results</caption>\n",
       "<tr>\n",
       "  <th>Dep. Variable:</th>          <td>bidsz</td>       <th>  No. Observations:  </th>  <td> 18765</td> \n",
       "</tr>\n",
       "<tr>\n",
       "  <th>Model:</th>           <td>GeneralizedPoisson</td> <th>  Df Residuals:      </th>  <td> 18751</td> \n",
       "</tr>\n",
       "<tr>\n",
       "  <th>Method:</th>                  <td>MLE</td>        <th>  Df Model:          </th>  <td>    13</td> \n",
       "</tr>\n",
       "<tr>\n",
       "  <th>Date:</th>             <td>Thu, 26 Dec 2019</td>  <th>  Pseudo R-squ.:     </th>  <td>   nan</td> \n",
       "</tr>\n",
       "<tr>\n",
       "  <th>Time:</th>                 <td>08:09:14</td>      <th>  Log-Likelihood:    </th> <td>     nan</td>\n",
       "</tr>\n",
       "<tr>\n",
       "  <th>converged:</th>              <td>True</td>        <th>  LL-Null:           </th> <td> -23029.</td>\n",
       "</tr>\n",
       "<tr>\n",
       "  <th>Covariance Type:</th>      <td>nonrobust</td>     <th>  LLR p-value:       </th>  <td>   nan</td> \n",
       "</tr>\n",
       "</table>\n",
       "<table class=\"simpletable\">\n",
       "<tr>\n",
       "      <td></td>         <th>coef</th>     <th>std err</th>      <th>z</th>      <th>P>|z|</th>  <th>[0.025</th>    <th>0.975]</th>  \n",
       "</tr>\n",
       "<tr>\n",
       "  <th>Intercept</th> <td>   26.0909</td> <td>    1.680</td> <td>   15.531</td> <td> 0.000</td> <td>   22.798</td> <td>   29.383</td>\n",
       "</tr>\n",
       "<tr>\n",
       "  <th>time</th>      <td> 1.227e-05</td> <td> 4.73e-07</td> <td>   25.951</td> <td> 0.000</td> <td> 1.13e-05</td> <td> 1.32e-05</td>\n",
       "</tr>\n",
       "<tr>\n",
       "  <th>bid1</th>      <td>   -0.0039</td> <td>      nan</td> <td>      nan</td> <td>   nan</td> <td>      nan</td> <td>      nan</td>\n",
       "</tr>\n",
       "<tr>\n",
       "  <th>bidsz1</th>    <td>    0.0266</td> <td>    0.000</td> <td>   82.969</td> <td> 0.000</td> <td>    0.026</td> <td>    0.027</td>\n",
       "</tr>\n",
       "<tr>\n",
       "  <th>ask1</th>      <td>   -0.0026</td> <td>    0.004</td> <td>   -0.654</td> <td> 0.513</td> <td>   -0.010</td> <td>    0.005</td>\n",
       "</tr>\n",
       "<tr>\n",
       "  <th>asksz1</th>    <td>   -0.0046</td> <td>    0.000</td> <td>  -14.133</td> <td> 0.000</td> <td>   -0.005</td> <td>   -0.004</td>\n",
       "</tr>\n",
       "<tr>\n",
       "  <th>bid2</th>      <td>    0.0099</td> <td>      nan</td> <td>      nan</td> <td>   nan</td> <td>      nan</td> <td>      nan</td>\n",
       "</tr>\n",
       "<tr>\n",
       "  <th>bidsz2</th>    <td>   -0.0045</td> <td>    0.000</td> <td>  -19.484</td> <td> 0.000</td> <td>   -0.005</td> <td>   -0.004</td>\n",
       "</tr>\n",
       "<tr>\n",
       "  <th>ask2</th>      <td>    0.0051</td> <td>    0.007</td> <td>    0.763</td> <td> 0.445</td> <td>   -0.008</td> <td>    0.018</td>\n",
       "</tr>\n",
       "<tr>\n",
       "  <th>asksz2</th>    <td>   -0.0004</td> <td>    0.001</td> <td>   -0.578</td> <td> 0.563</td> <td>   -0.002</td> <td>    0.001</td>\n",
       "</tr>\n",
       "<tr>\n",
       "  <th>bid3</th>      <td>    0.0093</td> <td>    0.003</td> <td>    3.125</td> <td> 0.002</td> <td>    0.003</td> <td>    0.015</td>\n",
       "</tr>\n",
       "<tr>\n",
       "  <th>bidsz3</th>    <td>    0.0093</td> <td>    0.000</td> <td>   30.291</td> <td> 0.000</td> <td>    0.009</td> <td>    0.010</td>\n",
       "</tr>\n",
       "<tr>\n",
       "  <th>ask3</th>      <td>   -0.0206</td> <td>    0.006</td> <td>   -3.742</td> <td> 0.000</td> <td>   -0.031</td> <td>   -0.010</td>\n",
       "</tr>\n",
       "<tr>\n",
       "  <th>asksz3</th>    <td>   -0.0020</td> <td>    0.001</td> <td>   -3.176</td> <td> 0.001</td> <td>   -0.003</td> <td>   -0.001</td>\n",
       "</tr>\n",
       "<tr>\n",
       "  <th>alpha</th>     <td>   -0.4724</td> <td>    0.002</td> <td> -198.329</td> <td> 0.000</td> <td>   -0.477</td> <td>   -0.468</td>\n",
       "</tr>\n",
       "</table>"
      ],
      "text/plain": [
       "<class 'statsmodels.iolib.summary.Summary'>\n",
       "\"\"\"\n",
       "                    GeneralizedPoisson Regression Results                     \n",
       "==============================================================================\n",
       "Dep. Variable:                  bidsz   No. Observations:                18765\n",
       "Model:             GeneralizedPoisson   Df Residuals:                    18751\n",
       "Method:                           MLE   Df Model:                           13\n",
       "Date:                Thu, 26 Dec 2019   Pseudo R-squ.:                     nan\n",
       "Time:                        08:09:14   Log-Likelihood:                    nan\n",
       "converged:                       True   LL-Null:                       -23029.\n",
       "Covariance Type:            nonrobust   LLR p-value:                       nan\n",
       "==============================================================================\n",
       "                 coef    std err          z      P>|z|      [0.025      0.975]\n",
       "------------------------------------------------------------------------------\n",
       "Intercept     26.0909      1.680     15.531      0.000      22.798      29.383\n",
       "time        1.227e-05   4.73e-07     25.951      0.000    1.13e-05    1.32e-05\n",
       "bid1          -0.0039        nan        nan        nan         nan         nan\n",
       "bidsz1         0.0266      0.000     82.969      0.000       0.026       0.027\n",
       "ask1          -0.0026      0.004     -0.654      0.513      -0.010       0.005\n",
       "asksz1        -0.0046      0.000    -14.133      0.000      -0.005      -0.004\n",
       "bid2           0.0099        nan        nan        nan         nan         nan\n",
       "bidsz2        -0.0045      0.000    -19.484      0.000      -0.005      -0.004\n",
       "ask2           0.0051      0.007      0.763      0.445      -0.008       0.018\n",
       "asksz2        -0.0004      0.001     -0.578      0.563      -0.002       0.001\n",
       "bid3           0.0093      0.003      3.125      0.002       0.003       0.015\n",
       "bidsz3         0.0093      0.000     30.291      0.000       0.009       0.010\n",
       "ask3          -0.0206      0.006     -3.742      0.000      -0.031      -0.010\n",
       "asksz3        -0.0020      0.001     -3.176      0.001      -0.003      -0.001\n",
       "alpha         -0.4724      0.002   -198.329      0.000      -0.477      -0.468\n",
       "==============================================================================\n",
       "\"\"\""
      ]
     },
     "execution_count": 363,
     "metadata": {},
     "output_type": "execute_result"
    }
   ],
   "source": [
    "poi_Bbid.summary()"
   ]
  },
  {
   "cell_type": "code",
   "execution_count": 364,
   "metadata": {},
   "outputs": [
    {
     "data": {
      "text/html": [
       "<table class=\"simpletable\">\n",
       "<caption>GeneralizedPoisson Regression Results</caption>\n",
       "<tr>\n",
       "  <th>Dep. Variable:</th>          <td>asksz</td>       <th>  No. Observations:  </th>  <td> 18765</td> \n",
       "</tr>\n",
       "<tr>\n",
       "  <th>Model:</th>           <td>GeneralizedPoisson</td> <th>  Df Residuals:      </th>  <td> 18751</td> \n",
       "</tr>\n",
       "<tr>\n",
       "  <th>Method:</th>                  <td>MLE</td>        <th>  Df Model:          </th>  <td>    13</td> \n",
       "</tr>\n",
       "<tr>\n",
       "  <th>Date:</th>             <td>Thu, 26 Dec 2019</td>  <th>  Pseudo R-squ.:     </th>  <td>   nan</td> \n",
       "</tr>\n",
       "<tr>\n",
       "  <th>Time:</th>                 <td>08:09:32</td>      <th>  Log-Likelihood:    </th> <td>     nan</td>\n",
       "</tr>\n",
       "<tr>\n",
       "  <th>converged:</th>              <td>True</td>        <th>  LL-Null:           </th> <td> -23363.</td>\n",
       "</tr>\n",
       "<tr>\n",
       "  <th>Covariance Type:</th>      <td>nonrobust</td>     <th>  LLR p-value:       </th>  <td>   nan</td> \n",
       "</tr>\n",
       "</table>\n",
       "<table class=\"simpletable\">\n",
       "<tr>\n",
       "      <td></td>         <th>coef</th>     <th>std err</th>      <th>z</th>      <th>P>|z|</th>  <th>[0.025</th>    <th>0.975]</th>  \n",
       "</tr>\n",
       "<tr>\n",
       "  <th>Intercept</th> <td>   47.9572</td> <td>    4.409</td> <td>   10.876</td> <td> 0.000</td> <td>   39.315</td> <td>   56.600</td>\n",
       "</tr>\n",
       "<tr>\n",
       "  <th>time</th>      <td> 2.187e-05</td> <td> 1.16e-06</td> <td>   18.914</td> <td> 0.000</td> <td> 1.96e-05</td> <td> 2.41e-05</td>\n",
       "</tr>\n",
       "<tr>\n",
       "  <th>bid1</th>      <td>    0.0040</td> <td>    0.008</td> <td>    0.530</td> <td> 0.596</td> <td>   -0.011</td> <td>    0.019</td>\n",
       "</tr>\n",
       "<tr>\n",
       "  <th>bidsz1</th>    <td>    0.0034</td> <td>    0.001</td> <td>    2.780</td> <td> 0.005</td> <td>    0.001</td> <td>    0.006</td>\n",
       "</tr>\n",
       "<tr>\n",
       "  <th>ask1</th>      <td>    0.0084</td> <td>    0.007</td> <td>    1.197</td> <td> 0.231</td> <td>   -0.005</td> <td>    0.022</td>\n",
       "</tr>\n",
       "<tr>\n",
       "  <th>asksz1</th>    <td>    0.0292</td> <td>    0.001</td> <td>   31.739</td> <td> 0.000</td> <td>    0.027</td> <td>    0.031</td>\n",
       "</tr>\n",
       "<tr>\n",
       "  <th>bid2</th>      <td>   -0.0102</td> <td>    0.008</td> <td>   -1.347</td> <td> 0.178</td> <td>   -0.025</td> <td>    0.005</td>\n",
       "</tr>\n",
       "<tr>\n",
       "  <th>bidsz2</th>    <td>   -0.0006</td> <td>    0.001</td> <td>   -0.508</td> <td> 0.612</td> <td>   -0.003</td> <td>    0.002</td>\n",
       "</tr>\n",
       "<tr>\n",
       "  <th>ask2</th>      <td>    0.0197</td> <td>    0.007</td> <td>    2.933</td> <td> 0.003</td> <td>    0.007</td> <td>    0.033</td>\n",
       "</tr>\n",
       "<tr>\n",
       "  <th>asksz2</th>    <td>   -0.0019</td> <td>    0.001</td> <td>   -1.465</td> <td> 0.143</td> <td>   -0.004</td> <td>    0.001</td>\n",
       "</tr>\n",
       "<tr>\n",
       "  <th>bid3</th>      <td>    0.0113</td> <td>    0.001</td> <td>   13.851</td> <td> 0.000</td> <td>    0.010</td> <td>    0.013</td>\n",
       "</tr>\n",
       "<tr>\n",
       "  <th>bidsz3</th>    <td>    0.0215</td> <td>    0.001</td> <td>   23.456</td> <td> 0.000</td> <td>    0.020</td> <td>    0.023</td>\n",
       "</tr>\n",
       "<tr>\n",
       "  <th>ask3</th>      <td>   -0.0385</td> <td>      nan</td> <td>      nan</td> <td>   nan</td> <td>      nan</td> <td>      nan</td>\n",
       "</tr>\n",
       "<tr>\n",
       "  <th>asksz3</th>    <td>    0.0052</td> <td>    0.001</td> <td>    4.598</td> <td> 0.000</td> <td>    0.003</td> <td>    0.007</td>\n",
       "</tr>\n",
       "<tr>\n",
       "  <th>alpha</th>     <td>   -0.3539</td> <td>    0.003</td> <td> -107.950</td> <td> 0.000</td> <td>   -0.360</td> <td>   -0.347</td>\n",
       "</tr>\n",
       "</table>"
      ],
      "text/plain": [
       "<class 'statsmodels.iolib.summary.Summary'>\n",
       "\"\"\"\n",
       "                    GeneralizedPoisson Regression Results                     \n",
       "==============================================================================\n",
       "Dep. Variable:                  asksz   No. Observations:                18765\n",
       "Model:             GeneralizedPoisson   Df Residuals:                    18751\n",
       "Method:                           MLE   Df Model:                           13\n",
       "Date:                Thu, 26 Dec 2019   Pseudo R-squ.:                     nan\n",
       "Time:                        08:09:32   Log-Likelihood:                    nan\n",
       "converged:                       True   LL-Null:                       -23363.\n",
       "Covariance Type:            nonrobust   LLR p-value:                       nan\n",
       "==============================================================================\n",
       "                 coef    std err          z      P>|z|      [0.025      0.975]\n",
       "------------------------------------------------------------------------------\n",
       "Intercept     47.9572      4.409     10.876      0.000      39.315      56.600\n",
       "time        2.187e-05   1.16e-06     18.914      0.000    1.96e-05    2.41e-05\n",
       "bid1           0.0040      0.008      0.530      0.596      -0.011       0.019\n",
       "bidsz1         0.0034      0.001      2.780      0.005       0.001       0.006\n",
       "ask1           0.0084      0.007      1.197      0.231      -0.005       0.022\n",
       "asksz1         0.0292      0.001     31.739      0.000       0.027       0.031\n",
       "bid2          -0.0102      0.008     -1.347      0.178      -0.025       0.005\n",
       "bidsz2        -0.0006      0.001     -0.508      0.612      -0.003       0.002\n",
       "ask2           0.0197      0.007      2.933      0.003       0.007       0.033\n",
       "asksz2        -0.0019      0.001     -1.465      0.143      -0.004       0.001\n",
       "bid3           0.0113      0.001     13.851      0.000       0.010       0.013\n",
       "bidsz3         0.0215      0.001     23.456      0.000       0.020       0.023\n",
       "ask3          -0.0385        nan        nan        nan         nan         nan\n",
       "asksz3         0.0052      0.001      4.598      0.000       0.003       0.007\n",
       "alpha         -0.3539      0.003   -107.950      0.000      -0.360      -0.347\n",
       "==============================================================================\n",
       "\"\"\""
      ]
     },
     "execution_count": 364,
     "metadata": {},
     "output_type": "execute_result"
    }
   ],
   "source": [
    "poi_Bask.summary()"
   ]
  },
  {
   "cell_type": "markdown",
   "metadata": {},
   "source": [
    "Until now we finished the construction of the linear model upon `bidsz` and `asksz` using previous records."
   ]
  },
  {
   "cell_type": "markdown",
   "metadata": {},
   "source": [
    "### Part 3: Model Construction upon the time intervals for the stock change upon each stocks"
   ]
  },
  {
   "cell_type": "markdown",
   "metadata": {},
   "source": [
    "To begin with, we extract the `time` column from each dataset with prefix `Fin`. Then we calculate the time intervals between each pair of adjacent rows. The codes for the operation are as following; note that here we will not consider the time interval of 0, and the time we set is based on milliseconds:"
   ]
  },
  {
   "cell_type": "code",
   "execution_count": 673,
   "metadata": {},
   "outputs": [],
   "source": [
    "def nonz(a):\n",
    "    return a!=0\n",
    "T_A=np.array(Fin_A['time'])*pow(10,6)\n",
    "TI_A=list(filter(nonz,[T_A[i+1]-T_A[i] for i in range(len(T_A)-1)]))\n",
    "l_TIA=np.log(TI_A)\n",
    "T_B=np.array(Fin_B['time'])*pow(10,6)\n",
    "TI_B=list(filter(nonz,[T_B[i+1]-T_B[i] for i in range(len(T_B)-1)]))\n",
    "l_TIB=np.log(TI_B)"
   ]
  },
  {
   "cell_type": "code",
   "execution_count": 674,
   "metadata": {},
   "outputs": [
    {
     "data": {
      "image/png": "[encoded data removed]",
      "text/plain": [
       "<Figure size 432x288 with 1 Axes>"
      ]
     },
     "metadata": {
      "needs_background": "light"
     },
     "output_type": "display_data"
    }
   ],
   "source": [
    "## Firstly we give the hist of the two set of time. The result is as following:\n",
    "## Note that we take the log value of the intervals to hist.\n",
    "\n",
    "P1=plt.hist(l_TIA,100)\n",
    "plt.xlabel('log_time')  \n",
    "plt.ylabel('frequency')  \n",
    "plt.title(r'Log-time interval distribution for Stock A')  \n",
    "plt.show()"
   ]
  },
  {
   "cell_type": "code",
   "execution_count": 675,
   "metadata": {},
   "outputs": [
    {
     "data": {
      "image/png": "[encoded data removed]",
      "text/plain": [
       "<Figure size 432x288 with 1 Axes>"
      ]
     },
     "metadata": {
      "needs_background": "light"
     },
     "output_type": "display_data"
    }
   ],
   "source": [
    "P1=plt.hist(l_TIB,100)\n",
    "plt.xlabel('log_time')  \n",
    "plt.ylabel('frequency')  \n",
    "plt.title(r'Log-time interval distribution for Stock B') \n",
    "plt.show()"
   ]
  },
  {
   "cell_type": "markdown",
   "metadata": {},
   "source": [
    "From the two plots, seems that the time intervals for each stocks approximately form ome certain Gaussian Mixture Distribution. Here we can use EM-Algorithm to calculate the parameters; "
   ]
  },
  {
   "cell_type": "code",
   "execution_count": 676,
   "metadata": {},
   "outputs": [
    {
     "data": {
      "text/plain": [
       "GaussianMixture(covariance_type='full', init_params='kmeans', max_iter=100,\n",
       "                means_init=None, n_components=2, n_init=1, precisions_init=None,\n",
       "                random_state=None, reg_covar=1e-06, tol=0.001, verbose=0,\n",
       "                verbose_interval=10, warm_start=False, weights_init=None)"
      ]
     },
     "execution_count": 676,
     "metadata": {},
     "output_type": "execute_result"
    }
   ],
   "source": [
    "from sklearn.mixture import GaussianMixture \n",
    "\n",
    "gmmA=GaussianMixture(n_components=2)\n",
    "gmmB=GaussianMixture(n_components=2)\n",
    "gmmA.fit(l_TIA.reshape(-1,1))\n",
    "gmmB.fit(l_TIA.reshape(-1,1))"
   ]
  },
  {
   "cell_type": "code",
   "execution_count": 752,
   "metadata": {},
   "outputs": [
    {
     "data": {
      "text/html": [
       "<div>\n",
       "<style scoped>\n",
       "    .dataframe tbody tr th:only-of-type {\n",
       "        vertical-align: middle;\n",
       "    }\n",
       "\n",
       "    .dataframe tbody tr th {\n",
       "        vertical-align: top;\n",
       "    }\n",
       "\n",
       "    .dataframe thead th {\n",
       "        text-align: right;\n",
       "    }\n",
       "</style>\n",
       "<table border=\"1\" class=\"dataframe\">\n",
       "  <thead>\n",
       "    <tr style=\"text-align: right;\">\n",
       "      <th></th>\n",
       "      <th>parameter_name</th>\n",
       "      <th>Stock A</th>\n",
       "      <th>Stock B</th>\n",
       "    </tr>\n",
       "  </thead>\n",
       "  <tbody>\n",
       "    <tr>\n",
       "      <th>0</th>\n",
       "      <td>weight_1</td>\n",
       "      <td>0.33037262108880977</td>\n",
       "      <td>0.3307184688692969</td>\n",
       "    </tr>\n",
       "    <tr>\n",
       "      <th>1</th>\n",
       "      <td>weight_2</td>\n",
       "      <td>0.6696273789112022</td>\n",
       "      <td>0.6692815311306916</td>\n",
       "    </tr>\n",
       "    <tr>\n",
       "      <th>2</th>\n",
       "      <td>mu_1</td>\n",
       "      <td>12.409582344221597</td>\n",
       "      <td>12.405056186540019</td>\n",
       "    </tr>\n",
       "    <tr>\n",
       "      <th>3</th>\n",
       "      <td>mu_2</td>\n",
       "      <td>4.107702105985726</td>\n",
       "      <td>4.107702105985726</td>\n",
       "    </tr>\n",
       "    <tr>\n",
       "      <th>4</th>\n",
       "      <td>sigma_1</td>\n",
       "      <td>5.100062509076796</td>\n",
       "      <td>5.115600805547423</td>\n",
       "    </tr>\n",
       "    <tr>\n",
       "      <th>5</th>\n",
       "      <td>sigma_2</td>\n",
       "      <td>3.9911812571283156</td>\n",
       "      <td>3.9844363378609877</td>\n",
       "    </tr>\n",
       "  </tbody>\n",
       "</table>\n",
       "</div>"
      ],
      "text/plain": [
       "  parameter_name              Stock A             Stock B\n",
       "0       weight_1  0.33037262108880977  0.3307184688692969\n",
       "1       weight_2   0.6696273789112022  0.6692815311306916\n",
       "2           mu_1   12.409582344221597  12.405056186540019\n",
       "3           mu_2    4.107702105985726   4.107702105985726\n",
       "4        sigma_1    5.100062509076796   5.115600805547423\n",
       "5        sigma_2   3.9911812571283156  3.9844363378609877"
      ]
     },
     "execution_count": 752,
     "metadata": {},
     "output_type": "execute_result"
    }
   ],
   "source": [
    "## Calculating Parameters and save the results\n",
    "weight_A=np.array([[gmmA.weights_[0],gmmA.weights_[1]]])\n",
    "mu_A=np.array([[gmmA.means_[0][0],gmmA.means_[1][0]]])\n",
    "var_A=np.array([[gmmA.covariances_[0][0][0],gmmA.covariances_[1][0][0]]])\n",
    "weight_B=np.array([[gmmB.weights_[0],gmmB.weights_[1]]])\n",
    "mu_B=np.array([[gmmB.means_[0][0],gmmA.means_[1][0]]])\n",
    "var_B=np.array([[gmmB.covariances_[0][0][0],gmmB.covariances_[1][0][0]]])\n",
    "\n",
    "## Now put the parameters in one datatable:\n",
    "par_A=np.concatenate((weight_A,mu_A,var_A))\n",
    "par_B=np.concatenate((weight_B,mu_B,var_B))\n",
    "par_A.shape=(6,1)\n",
    "par_B.shape=(6,1)\n",
    "par_name=np.array([['weight_1'],['weight_2'],['mu_1'],['mu_2'],['sigma_1'],['sigma_2']])\n",
    "Result=pd.DataFrame(np.hstack((par_name,par_A,par_B)))\n",
    "Result.columns=['parameter_name','Stock A','Stock B']\n",
    "Result"
   ]
  },
  {
   "cell_type": "markdown",
   "metadata": {},
   "source": [
    "That is, let $TL_A$, $TL_B$ be the log time interval that the stock information change, then the distribution of $TL_A$ and $TL_B$ are as following:\n",
    "\n",
    "$$f_{TL_A}(t)=0.67N(t|4.108,3.99)+0.33N(t|12.409,5.10)$$\n",
    "\n",
    "$$f_{TL_B}(t)=0.67N(t|4.108,3.99)+0.33N(t|12.405,5.10)$$\n",
    "\n",
    "The two distributions are approximately the same, which means that the interval of time change does not rely on the type of stocks."
   ]
  },
  {
   "cell_type": "markdown",
   "metadata": {},
   "source": [
    "Above all, the predicting procedure for one certain stock (A or B) can be expressed as this: \n",
    "\n",
    "(1) First of all, sample $X$ from the Gaussian Mixture Model $0.67N(4.108,3.99)+0.33N(12.409,5.10)$; then calculate the time interval $t=exp(X)$; use this time interval, find the certain time that the stock data changes.\n",
    "\n",
    "(2) For the `bid` and `ask` responsors, using the models construct in part 1 to predict the new values based on the last three different conditions\n",
    "\n",
    "(3) For `bidsz` and `asksz`, using the Poisson Regression model construct in part 2 to predict the new values based on the last three different conditions; after prediction, calculate the exponential values and find the nearest integers; the integers are the predicted `bidsz` and `asksz`."
   ]
  }
 ],
 "metadata": {
  "kernelspec": {
   "display_name": "Python 3",
   "language": "python",
   "name": "python3"
  },
  "language_info": {
   "codemirror_mode": {
    "name": "ipython",
    "version": 3
   },
   "file_extension": ".py",
   "mimetype": "text/x-python",
   "name": "python",
   "nbconvert_exporter": "python",
   "pygments_lexer": "ipython3",
   "version": "3.7.3"
  }
 },
 "nbformat": 4,
 "nbformat_minor": 2
}
